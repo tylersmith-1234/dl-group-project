{
  "nbformat": 4,
  "nbformat_minor": 0,
  "metadata": {
    "colab": {
      "name": "TF_T5.ipynb",
      "provenance": [],
      "collapsed_sections": []
    },
    "kernelspec": {
      "name": "python3",
      "display_name": "Python 3"
    },
    "language_info": {
      "name": "python"
    },
    "accelerator": "GPU",
    "widgets": {
      "application/vnd.jupyter.widget-state+json": {
        "1605e01049aa496883d93a311f2d33b1": {
          "model_module": "@jupyter-widgets/controls",
          "model_name": "HBoxModel",
          "model_module_version": "1.5.0",
          "state": {
            "_dom_classes": [],
            "_model_module": "@jupyter-widgets/controls",
            "_model_module_version": "1.5.0",
            "_model_name": "HBoxModel",
            "_view_count": null,
            "_view_module": "@jupyter-widgets/controls",
            "_view_module_version": "1.5.0",
            "_view_name": "HBoxView",
            "box_style": "",
            "children": [
              "IPY_MODEL_7b012d41d4504636b068033c94193427",
              "IPY_MODEL_4d0ab67f4b8f489c8ded6f87cef6bd68",
              "IPY_MODEL_55240652bce74fd892c317922cea5621"
            ],
            "layout": "IPY_MODEL_26283acd3f144e38bd6335cb60509d04"
          }
        },
        "7b012d41d4504636b068033c94193427": {
          "model_module": "@jupyter-widgets/controls",
          "model_name": "HTMLModel",
          "model_module_version": "1.5.0",
          "state": {
            "_dom_classes": [],
            "_model_module": "@jupyter-widgets/controls",
            "_model_module_version": "1.5.0",
            "_model_name": "HTMLModel",
            "_view_count": null,
            "_view_module": "@jupyter-widgets/controls",
            "_view_module_version": "1.5.0",
            "_view_name": "HTMLView",
            "description": "",
            "description_tooltip": null,
            "layout": "IPY_MODEL_f63ffe8e553344b29f59d984f7878aee",
            "placeholder": "​",
            "style": "IPY_MODEL_7ddd8c82b072416d8af8ce9312b7a086",
            "value": "100%"
          }
        },
        "4d0ab67f4b8f489c8ded6f87cef6bd68": {
          "model_module": "@jupyter-widgets/controls",
          "model_name": "FloatProgressModel",
          "model_module_version": "1.5.0",
          "state": {
            "_dom_classes": [],
            "_model_module": "@jupyter-widgets/controls",
            "_model_module_version": "1.5.0",
            "_model_name": "FloatProgressModel",
            "_view_count": null,
            "_view_module": "@jupyter-widgets/controls",
            "_view_module_version": "1.5.0",
            "_view_name": "ProgressView",
            "bar_style": "success",
            "description": "",
            "description_tooltip": null,
            "layout": "IPY_MODEL_00a65412684c48d5aa848904d97ca12e",
            "max": 6,
            "min": 0,
            "orientation": "horizontal",
            "style": "IPY_MODEL_94e47947110149269299ca99f25c65c5",
            "value": 6
          }
        },
        "55240652bce74fd892c317922cea5621": {
          "model_module": "@jupyter-widgets/controls",
          "model_name": "HTMLModel",
          "model_module_version": "1.5.0",
          "state": {
            "_dom_classes": [],
            "_model_module": "@jupyter-widgets/controls",
            "_model_module_version": "1.5.0",
            "_model_name": "HTMLModel",
            "_view_count": null,
            "_view_module": "@jupyter-widgets/controls",
            "_view_module_version": "1.5.0",
            "_view_name": "HTMLView",
            "description": "",
            "description_tooltip": null,
            "layout": "IPY_MODEL_3f2c92d3733b4a89a754ecb3ed9161d7",
            "placeholder": "​",
            "style": "IPY_MODEL_ad4eb4cbc99b432baf51c8b041734280",
            "value": " 6/6 [00:00&lt;00:00,  6.14ba/s]"
          }
        },
        "26283acd3f144e38bd6335cb60509d04": {
          "model_module": "@jupyter-widgets/base",
          "model_name": "LayoutModel",
          "model_module_version": "1.2.0",
          "state": {
            "_model_module": "@jupyter-widgets/base",
            "_model_module_version": "1.2.0",
            "_model_name": "LayoutModel",
            "_view_count": null,
            "_view_module": "@jupyter-widgets/base",
            "_view_module_version": "1.2.0",
            "_view_name": "LayoutView",
            "align_content": null,
            "align_items": null,
            "align_self": null,
            "border": null,
            "bottom": null,
            "display": null,
            "flex": null,
            "flex_flow": null,
            "grid_area": null,
            "grid_auto_columns": null,
            "grid_auto_flow": null,
            "grid_auto_rows": null,
            "grid_column": null,
            "grid_gap": null,
            "grid_row": null,
            "grid_template_areas": null,
            "grid_template_columns": null,
            "grid_template_rows": null,
            "height": null,
            "justify_content": null,
            "justify_items": null,
            "left": null,
            "margin": null,
            "max_height": null,
            "max_width": null,
            "min_height": null,
            "min_width": null,
            "object_fit": null,
            "object_position": null,
            "order": null,
            "overflow": null,
            "overflow_x": null,
            "overflow_y": null,
            "padding": null,
            "right": null,
            "top": null,
            "visibility": null,
            "width": null
          }
        },
        "f63ffe8e553344b29f59d984f7878aee": {
          "model_module": "@jupyter-widgets/base",
          "model_name": "LayoutModel",
          "model_module_version": "1.2.0",
          "state": {
            "_model_module": "@jupyter-widgets/base",
            "_model_module_version": "1.2.0",
            "_model_name": "LayoutModel",
            "_view_count": null,
            "_view_module": "@jupyter-widgets/base",
            "_view_module_version": "1.2.0",
            "_view_name": "LayoutView",
            "align_content": null,
            "align_items": null,
            "align_self": null,
            "border": null,
            "bottom": null,
            "display": null,
            "flex": null,
            "flex_flow": null,
            "grid_area": null,
            "grid_auto_columns": null,
            "grid_auto_flow": null,
            "grid_auto_rows": null,
            "grid_column": null,
            "grid_gap": null,
            "grid_row": null,
            "grid_template_areas": null,
            "grid_template_columns": null,
            "grid_template_rows": null,
            "height": null,
            "justify_content": null,
            "justify_items": null,
            "left": null,
            "margin": null,
            "max_height": null,
            "max_width": null,
            "min_height": null,
            "min_width": null,
            "object_fit": null,
            "object_position": null,
            "order": null,
            "overflow": null,
            "overflow_x": null,
            "overflow_y": null,
            "padding": null,
            "right": null,
            "top": null,
            "visibility": null,
            "width": null
          }
        },
        "7ddd8c82b072416d8af8ce9312b7a086": {
          "model_module": "@jupyter-widgets/controls",
          "model_name": "DescriptionStyleModel",
          "model_module_version": "1.5.0",
          "state": {
            "_model_module": "@jupyter-widgets/controls",
            "_model_module_version": "1.5.0",
            "_model_name": "DescriptionStyleModel",
            "_view_count": null,
            "_view_module": "@jupyter-widgets/base",
            "_view_module_version": "1.2.0",
            "_view_name": "StyleView",
            "description_width": ""
          }
        },
        "00a65412684c48d5aa848904d97ca12e": {
          "model_module": "@jupyter-widgets/base",
          "model_name": "LayoutModel",
          "model_module_version": "1.2.0",
          "state": {
            "_model_module": "@jupyter-widgets/base",
            "_model_module_version": "1.2.0",
            "_model_name": "LayoutModel",
            "_view_count": null,
            "_view_module": "@jupyter-widgets/base",
            "_view_module_version": "1.2.0",
            "_view_name": "LayoutView",
            "align_content": null,
            "align_items": null,
            "align_self": null,
            "border": null,
            "bottom": null,
            "display": null,
            "flex": null,
            "flex_flow": null,
            "grid_area": null,
            "grid_auto_columns": null,
            "grid_auto_flow": null,
            "grid_auto_rows": null,
            "grid_column": null,
            "grid_gap": null,
            "grid_row": null,
            "grid_template_areas": null,
            "grid_template_columns": null,
            "grid_template_rows": null,
            "height": null,
            "justify_content": null,
            "justify_items": null,
            "left": null,
            "margin": null,
            "max_height": null,
            "max_width": null,
            "min_height": null,
            "min_width": null,
            "object_fit": null,
            "object_position": null,
            "order": null,
            "overflow": null,
            "overflow_x": null,
            "overflow_y": null,
            "padding": null,
            "right": null,
            "top": null,
            "visibility": null,
            "width": null
          }
        },
        "94e47947110149269299ca99f25c65c5": {
          "model_module": "@jupyter-widgets/controls",
          "model_name": "ProgressStyleModel",
          "model_module_version": "1.5.0",
          "state": {
            "_model_module": "@jupyter-widgets/controls",
            "_model_module_version": "1.5.0",
            "_model_name": "ProgressStyleModel",
            "_view_count": null,
            "_view_module": "@jupyter-widgets/base",
            "_view_module_version": "1.2.0",
            "_view_name": "StyleView",
            "bar_color": null,
            "description_width": ""
          }
        },
        "3f2c92d3733b4a89a754ecb3ed9161d7": {
          "model_module": "@jupyter-widgets/base",
          "model_name": "LayoutModel",
          "model_module_version": "1.2.0",
          "state": {
            "_model_module": "@jupyter-widgets/base",
            "_model_module_version": "1.2.0",
            "_model_name": "LayoutModel",
            "_view_count": null,
            "_view_module": "@jupyter-widgets/base",
            "_view_module_version": "1.2.0",
            "_view_name": "LayoutView",
            "align_content": null,
            "align_items": null,
            "align_self": null,
            "border": null,
            "bottom": null,
            "display": null,
            "flex": null,
            "flex_flow": null,
            "grid_area": null,
            "grid_auto_columns": null,
            "grid_auto_flow": null,
            "grid_auto_rows": null,
            "grid_column": null,
            "grid_gap": null,
            "grid_row": null,
            "grid_template_areas": null,
            "grid_template_columns": null,
            "grid_template_rows": null,
            "height": null,
            "justify_content": null,
            "justify_items": null,
            "left": null,
            "margin": null,
            "max_height": null,
            "max_width": null,
            "min_height": null,
            "min_width": null,
            "object_fit": null,
            "object_position": null,
            "order": null,
            "overflow": null,
            "overflow_x": null,
            "overflow_y": null,
            "padding": null,
            "right": null,
            "top": null,
            "visibility": null,
            "width": null
          }
        },
        "ad4eb4cbc99b432baf51c8b041734280": {
          "model_module": "@jupyter-widgets/controls",
          "model_name": "DescriptionStyleModel",
          "model_module_version": "1.5.0",
          "state": {
            "_model_module": "@jupyter-widgets/controls",
            "_model_module_version": "1.5.0",
            "_model_name": "DescriptionStyleModel",
            "_view_count": null,
            "_view_module": "@jupyter-widgets/base",
            "_view_module_version": "1.2.0",
            "_view_name": "StyleView",
            "description_width": ""
          }
        },
        "b190f069c3b44ec38dc511338e27b811": {
          "model_module": "@jupyter-widgets/controls",
          "model_name": "HBoxModel",
          "model_module_version": "1.5.0",
          "state": {
            "_dom_classes": [],
            "_model_module": "@jupyter-widgets/controls",
            "_model_module_version": "1.5.0",
            "_model_name": "HBoxModel",
            "_view_count": null,
            "_view_module": "@jupyter-widgets/controls",
            "_view_module_version": "1.5.0",
            "_view_name": "HBoxView",
            "box_style": "",
            "children": [
              "IPY_MODEL_58505bd4230a46458f527eefb33286a1",
              "IPY_MODEL_76b0c400bfa44ce493beccd5fc3df7a3",
              "IPY_MODEL_2b445d552c7d4c66b97f872affa3fffd"
            ],
            "layout": "IPY_MODEL_ca7019a688034524868352ff919e64c0"
          }
        },
        "58505bd4230a46458f527eefb33286a1": {
          "model_module": "@jupyter-widgets/controls",
          "model_name": "HTMLModel",
          "model_module_version": "1.5.0",
          "state": {
            "_dom_classes": [],
            "_model_module": "@jupyter-widgets/controls",
            "_model_module_version": "1.5.0",
            "_model_name": "HTMLModel",
            "_view_count": null,
            "_view_module": "@jupyter-widgets/controls",
            "_view_module_version": "1.5.0",
            "_view_name": "HTMLView",
            "description": "",
            "description_tooltip": null,
            "layout": "IPY_MODEL_89ad595383324ed98c24f2462e4af87c",
            "placeholder": "​",
            "style": "IPY_MODEL_3ce41255ccc24fd288e24abf8546c7c2",
            "value": "100%"
          }
        },
        "76b0c400bfa44ce493beccd5fc3df7a3": {
          "model_module": "@jupyter-widgets/controls",
          "model_name": "FloatProgressModel",
          "model_module_version": "1.5.0",
          "state": {
            "_dom_classes": [],
            "_model_module": "@jupyter-widgets/controls",
            "_model_module_version": "1.5.0",
            "_model_name": "FloatProgressModel",
            "_view_count": null,
            "_view_module": "@jupyter-widgets/controls",
            "_view_module_version": "1.5.0",
            "_view_name": "ProgressView",
            "bar_style": "success",
            "description": "",
            "description_tooltip": null,
            "layout": "IPY_MODEL_157394958d9a4b21bbcb9867bfe3492e",
            "max": 59,
            "min": 0,
            "orientation": "horizontal",
            "style": "IPY_MODEL_85ffd819d55b46a7abfb516f06177004",
            "value": 59
          }
        },
        "2b445d552c7d4c66b97f872affa3fffd": {
          "model_module": "@jupyter-widgets/controls",
          "model_name": "HTMLModel",
          "model_module_version": "1.5.0",
          "state": {
            "_dom_classes": [],
            "_model_module": "@jupyter-widgets/controls",
            "_model_module_version": "1.5.0",
            "_model_name": "HTMLModel",
            "_view_count": null,
            "_view_module": "@jupyter-widgets/controls",
            "_view_module_version": "1.5.0",
            "_view_name": "HTMLView",
            "description": "",
            "description_tooltip": null,
            "layout": "IPY_MODEL_7024066869fc4a7f8371eb39d43a68d2",
            "placeholder": "​",
            "style": "IPY_MODEL_780f5b4db2264c088c427d5e1fb40222",
            "value": " 59/59 [00:09&lt;00:00,  6.39ba/s]"
          }
        },
        "ca7019a688034524868352ff919e64c0": {
          "model_module": "@jupyter-widgets/base",
          "model_name": "LayoutModel",
          "model_module_version": "1.2.0",
          "state": {
            "_model_module": "@jupyter-widgets/base",
            "_model_module_version": "1.2.0",
            "_model_name": "LayoutModel",
            "_view_count": null,
            "_view_module": "@jupyter-widgets/base",
            "_view_module_version": "1.2.0",
            "_view_name": "LayoutView",
            "align_content": null,
            "align_items": null,
            "align_self": null,
            "border": null,
            "bottom": null,
            "display": null,
            "flex": null,
            "flex_flow": null,
            "grid_area": null,
            "grid_auto_columns": null,
            "grid_auto_flow": null,
            "grid_auto_rows": null,
            "grid_column": null,
            "grid_gap": null,
            "grid_row": null,
            "grid_template_areas": null,
            "grid_template_columns": null,
            "grid_template_rows": null,
            "height": null,
            "justify_content": null,
            "justify_items": null,
            "left": null,
            "margin": null,
            "max_height": null,
            "max_width": null,
            "min_height": null,
            "min_width": null,
            "object_fit": null,
            "object_position": null,
            "order": null,
            "overflow": null,
            "overflow_x": null,
            "overflow_y": null,
            "padding": null,
            "right": null,
            "top": null,
            "visibility": null,
            "width": null
          }
        },
        "89ad595383324ed98c24f2462e4af87c": {
          "model_module": "@jupyter-widgets/base",
          "model_name": "LayoutModel",
          "model_module_version": "1.2.0",
          "state": {
            "_model_module": "@jupyter-widgets/base",
            "_model_module_version": "1.2.0",
            "_model_name": "LayoutModel",
            "_view_count": null,
            "_view_module": "@jupyter-widgets/base",
            "_view_module_version": "1.2.0",
            "_view_name": "LayoutView",
            "align_content": null,
            "align_items": null,
            "align_self": null,
            "border": null,
            "bottom": null,
            "display": null,
            "flex": null,
            "flex_flow": null,
            "grid_area": null,
            "grid_auto_columns": null,
            "grid_auto_flow": null,
            "grid_auto_rows": null,
            "grid_column": null,
            "grid_gap": null,
            "grid_row": null,
            "grid_template_areas": null,
            "grid_template_columns": null,
            "grid_template_rows": null,
            "height": null,
            "justify_content": null,
            "justify_items": null,
            "left": null,
            "margin": null,
            "max_height": null,
            "max_width": null,
            "min_height": null,
            "min_width": null,
            "object_fit": null,
            "object_position": null,
            "order": null,
            "overflow": null,
            "overflow_x": null,
            "overflow_y": null,
            "padding": null,
            "right": null,
            "top": null,
            "visibility": null,
            "width": null
          }
        },
        "3ce41255ccc24fd288e24abf8546c7c2": {
          "model_module": "@jupyter-widgets/controls",
          "model_name": "DescriptionStyleModel",
          "model_module_version": "1.5.0",
          "state": {
            "_model_module": "@jupyter-widgets/controls",
            "_model_module_version": "1.5.0",
            "_model_name": "DescriptionStyleModel",
            "_view_count": null,
            "_view_module": "@jupyter-widgets/base",
            "_view_module_version": "1.2.0",
            "_view_name": "StyleView",
            "description_width": ""
          }
        },
        "157394958d9a4b21bbcb9867bfe3492e": {
          "model_module": "@jupyter-widgets/base",
          "model_name": "LayoutModel",
          "model_module_version": "1.2.0",
          "state": {
            "_model_module": "@jupyter-widgets/base",
            "_model_module_version": "1.2.0",
            "_model_name": "LayoutModel",
            "_view_count": null,
            "_view_module": "@jupyter-widgets/base",
            "_view_module_version": "1.2.0",
            "_view_name": "LayoutView",
            "align_content": null,
            "align_items": null,
            "align_self": null,
            "border": null,
            "bottom": null,
            "display": null,
            "flex": null,
            "flex_flow": null,
            "grid_area": null,
            "grid_auto_columns": null,
            "grid_auto_flow": null,
            "grid_auto_rows": null,
            "grid_column": null,
            "grid_gap": null,
            "grid_row": null,
            "grid_template_areas": null,
            "grid_template_columns": null,
            "grid_template_rows": null,
            "height": null,
            "justify_content": null,
            "justify_items": null,
            "left": null,
            "margin": null,
            "max_height": null,
            "max_width": null,
            "min_height": null,
            "min_width": null,
            "object_fit": null,
            "object_position": null,
            "order": null,
            "overflow": null,
            "overflow_x": null,
            "overflow_y": null,
            "padding": null,
            "right": null,
            "top": null,
            "visibility": null,
            "width": null
          }
        },
        "85ffd819d55b46a7abfb516f06177004": {
          "model_module": "@jupyter-widgets/controls",
          "model_name": "ProgressStyleModel",
          "model_module_version": "1.5.0",
          "state": {
            "_model_module": "@jupyter-widgets/controls",
            "_model_module_version": "1.5.0",
            "_model_name": "ProgressStyleModel",
            "_view_count": null,
            "_view_module": "@jupyter-widgets/base",
            "_view_module_version": "1.2.0",
            "_view_name": "StyleView",
            "bar_color": null,
            "description_width": ""
          }
        },
        "7024066869fc4a7f8371eb39d43a68d2": {
          "model_module": "@jupyter-widgets/base",
          "model_name": "LayoutModel",
          "model_module_version": "1.2.0",
          "state": {
            "_model_module": "@jupyter-widgets/base",
            "_model_module_version": "1.2.0",
            "_model_name": "LayoutModel",
            "_view_count": null,
            "_view_module": "@jupyter-widgets/base",
            "_view_module_version": "1.2.0",
            "_view_name": "LayoutView",
            "align_content": null,
            "align_items": null,
            "align_self": null,
            "border": null,
            "bottom": null,
            "display": null,
            "flex": null,
            "flex_flow": null,
            "grid_area": null,
            "grid_auto_columns": null,
            "grid_auto_flow": null,
            "grid_auto_rows": null,
            "grid_column": null,
            "grid_gap": null,
            "grid_row": null,
            "grid_template_areas": null,
            "grid_template_columns": null,
            "grid_template_rows": null,
            "height": null,
            "justify_content": null,
            "justify_items": null,
            "left": null,
            "margin": null,
            "max_height": null,
            "max_width": null,
            "min_height": null,
            "min_width": null,
            "object_fit": null,
            "object_position": null,
            "order": null,
            "overflow": null,
            "overflow_x": null,
            "overflow_y": null,
            "padding": null,
            "right": null,
            "top": null,
            "visibility": null,
            "width": null
          }
        },
        "780f5b4db2264c088c427d5e1fb40222": {
          "model_module": "@jupyter-widgets/controls",
          "model_name": "DescriptionStyleModel",
          "model_module_version": "1.5.0",
          "state": {
            "_model_module": "@jupyter-widgets/controls",
            "_model_module_version": "1.5.0",
            "_model_name": "DescriptionStyleModel",
            "_view_count": null,
            "_view_module": "@jupyter-widgets/base",
            "_view_module_version": "1.2.0",
            "_view_name": "StyleView",
            "description_width": ""
          }
        }
      }
    }
  },
  "cells": [
    {
      "cell_type": "code",
      "execution_count": 1,
      "metadata": {
        "colab": {
          "base_uri": "https://localhost:8080/"
        },
        "id": "XTmV_pwO9xA7",
        "outputId": "ce540343-57bf-4a1a-bc79-7395ef25dac4"
      },
      "outputs": [
        {
          "output_type": "stream",
          "name": "stdout",
          "text": [
            "Requirement already satisfied: transformers in /usr/local/lib/python3.7/dist-packages (4.18.0)\n",
            "Requirement already satisfied: requests in /usr/local/lib/python3.7/dist-packages (from transformers) (2.23.0)\n",
            "Requirement already satisfied: pyyaml>=5.1 in /usr/local/lib/python3.7/dist-packages (from transformers) (6.0)\n",
            "Requirement already satisfied: tokenizers!=0.11.3,<0.13,>=0.11.1 in /usr/local/lib/python3.7/dist-packages (from transformers) (0.12.1)\n",
            "Requirement already satisfied: packaging>=20.0 in /usr/local/lib/python3.7/dist-packages (from transformers) (21.3)\n",
            "Requirement already satisfied: regex!=2019.12.17 in /usr/local/lib/python3.7/dist-packages (from transformers) (2019.12.20)\n",
            "Requirement already satisfied: huggingface-hub<1.0,>=0.1.0 in /usr/local/lib/python3.7/dist-packages (from transformers) (0.5.1)\n",
            "Requirement already satisfied: sacremoses in /usr/local/lib/python3.7/dist-packages (from transformers) (0.0.49)\n",
            "Requirement already satisfied: tqdm>=4.27 in /usr/local/lib/python3.7/dist-packages (from transformers) (4.64.0)\n",
            "Requirement already satisfied: numpy>=1.17 in /usr/local/lib/python3.7/dist-packages (from transformers) (1.21.6)\n",
            "Requirement already satisfied: filelock in /usr/local/lib/python3.7/dist-packages (from transformers) (3.6.0)\n",
            "Requirement already satisfied: importlib-metadata in /usr/local/lib/python3.7/dist-packages (from transformers) (4.11.3)\n",
            "Requirement already satisfied: typing-extensions>=3.7.4.3 in /usr/local/lib/python3.7/dist-packages (from huggingface-hub<1.0,>=0.1.0->transformers) (4.2.0)\n",
            "Requirement already satisfied: pyparsing!=3.0.5,>=2.0.2 in /usr/local/lib/python3.7/dist-packages (from packaging>=20.0->transformers) (3.0.8)\n",
            "Requirement already satisfied: zipp>=0.5 in /usr/local/lib/python3.7/dist-packages (from importlib-metadata->transformers) (3.8.0)\n",
            "Requirement already satisfied: urllib3!=1.25.0,!=1.25.1,<1.26,>=1.21.1 in /usr/local/lib/python3.7/dist-packages (from requests->transformers) (1.25.11)\n",
            "Requirement already satisfied: idna<3,>=2.5 in /usr/local/lib/python3.7/dist-packages (from requests->transformers) (2.10)\n",
            "Requirement already satisfied: chardet<4,>=3.0.2 in /usr/local/lib/python3.7/dist-packages (from requests->transformers) (3.0.4)\n",
            "Requirement already satisfied: certifi>=2017.4.17 in /usr/local/lib/python3.7/dist-packages (from requests->transformers) (2021.10.8)\n",
            "Requirement already satisfied: click in /usr/local/lib/python3.7/dist-packages (from sacremoses->transformers) (7.1.2)\n",
            "Requirement already satisfied: six in /usr/local/lib/python3.7/dist-packages (from sacremoses->transformers) (1.15.0)\n",
            "Requirement already satisfied: joblib in /usr/local/lib/python3.7/dist-packages (from sacremoses->transformers) (1.1.0)\n",
            "Requirement already satisfied: sentencepiece in /usr/local/lib/python3.7/dist-packages (0.1.96)\n",
            "Requirement already satisfied: datasets in /usr/local/lib/python3.7/dist-packages (2.1.0)\n",
            "Requirement already satisfied: importlib-metadata in /usr/local/lib/python3.7/dist-packages (from datasets) (4.11.3)\n",
            "Requirement already satisfied: packaging in /usr/local/lib/python3.7/dist-packages (from datasets) (21.3)\n",
            "Requirement already satisfied: aiohttp in /usr/local/lib/python3.7/dist-packages (from datasets) (3.8.1)\n",
            "Requirement already satisfied: responses<0.19 in /usr/local/lib/python3.7/dist-packages (from datasets) (0.18.0)\n",
            "Requirement already satisfied: numpy>=1.17 in /usr/local/lib/python3.7/dist-packages (from datasets) (1.21.6)\n",
            "Requirement already satisfied: xxhash in /usr/local/lib/python3.7/dist-packages (from datasets) (3.0.0)\n",
            "Requirement already satisfied: requests>=2.19.0 in /usr/local/lib/python3.7/dist-packages (from datasets) (2.23.0)\n",
            "Requirement already satisfied: tqdm>=4.62.1 in /usr/local/lib/python3.7/dist-packages (from datasets) (4.64.0)\n",
            "Requirement already satisfied: huggingface-hub<1.0.0,>=0.1.0 in /usr/local/lib/python3.7/dist-packages (from datasets) (0.5.1)\n",
            "Requirement already satisfied: pandas in /usr/local/lib/python3.7/dist-packages (from datasets) (1.3.5)\n",
            "Requirement already satisfied: multiprocess in /usr/local/lib/python3.7/dist-packages (from datasets) (0.70.12.2)\n",
            "Requirement already satisfied: fsspec[http]>=2021.05.0 in /usr/local/lib/python3.7/dist-packages (from datasets) (2022.3.0)\n",
            "Requirement already satisfied: dill in /usr/local/lib/python3.7/dist-packages (from datasets) (0.3.4)\n",
            "Requirement already satisfied: pyarrow>=5.0.0 in /usr/local/lib/python3.7/dist-packages (from datasets) (6.0.1)\n",
            "Requirement already satisfied: typing-extensions>=3.7.4.3 in /usr/local/lib/python3.7/dist-packages (from huggingface-hub<1.0.0,>=0.1.0->datasets) (4.2.0)\n",
            "Requirement already satisfied: pyyaml in /usr/local/lib/python3.7/dist-packages (from huggingface-hub<1.0.0,>=0.1.0->datasets) (6.0)\n",
            "Requirement already satisfied: filelock in /usr/local/lib/python3.7/dist-packages (from huggingface-hub<1.0.0,>=0.1.0->datasets) (3.6.0)\n",
            "Requirement already satisfied: pyparsing!=3.0.5,>=2.0.2 in /usr/local/lib/python3.7/dist-packages (from packaging->datasets) (3.0.8)\n",
            "Requirement already satisfied: chardet<4,>=3.0.2 in /usr/local/lib/python3.7/dist-packages (from requests>=2.19.0->datasets) (3.0.4)\n",
            "Requirement already satisfied: certifi>=2017.4.17 in /usr/local/lib/python3.7/dist-packages (from requests>=2.19.0->datasets) (2021.10.8)\n",
            "Requirement already satisfied: idna<3,>=2.5 in /usr/local/lib/python3.7/dist-packages (from requests>=2.19.0->datasets) (2.10)\n",
            "Requirement already satisfied: urllib3!=1.25.0,!=1.25.1,<1.26,>=1.21.1 in /usr/local/lib/python3.7/dist-packages (from requests>=2.19.0->datasets) (1.25.11)\n",
            "Requirement already satisfied: attrs>=17.3.0 in /usr/local/lib/python3.7/dist-packages (from aiohttp->datasets) (21.4.0)\n",
            "Requirement already satisfied: frozenlist>=1.1.1 in /usr/local/lib/python3.7/dist-packages (from aiohttp->datasets) (1.3.0)\n",
            "Requirement already satisfied: aiosignal>=1.1.2 in /usr/local/lib/python3.7/dist-packages (from aiohttp->datasets) (1.2.0)\n",
            "Requirement already satisfied: asynctest==0.13.0 in /usr/local/lib/python3.7/dist-packages (from aiohttp->datasets) (0.13.0)\n",
            "Requirement already satisfied: async-timeout<5.0,>=4.0.0a3 in /usr/local/lib/python3.7/dist-packages (from aiohttp->datasets) (4.0.2)\n",
            "Requirement already satisfied: charset-normalizer<3.0,>=2.0 in /usr/local/lib/python3.7/dist-packages (from aiohttp->datasets) (2.0.12)\n",
            "Requirement already satisfied: yarl<2.0,>=1.0 in /usr/local/lib/python3.7/dist-packages (from aiohttp->datasets) (1.7.2)\n",
            "Requirement already satisfied: multidict<7.0,>=4.5 in /usr/local/lib/python3.7/dist-packages (from aiohttp->datasets) (6.0.2)\n",
            "Requirement already satisfied: zipp>=0.5 in /usr/local/lib/python3.7/dist-packages (from importlib-metadata->datasets) (3.8.0)\n",
            "Requirement already satisfied: python-dateutil>=2.7.3 in /usr/local/lib/python3.7/dist-packages (from pandas->datasets) (2.8.2)\n",
            "Requirement already satisfied: pytz>=2017.3 in /usr/local/lib/python3.7/dist-packages (from pandas->datasets) (2022.1)\n",
            "Requirement already satisfied: six>=1.5 in /usr/local/lib/python3.7/dist-packages (from python-dateutil>=2.7.3->pandas->datasets) (1.15.0)\n"
          ]
        }
      ],
      "source": [
        "!pip install transformers\n",
        "!pip install sentencepiece\n",
        "!pip install datasets"
      ]
    },
    {
      "cell_type": "code",
      "source": [
        "!unzip COMBINED.zip"
      ],
      "metadata": {
        "colab": {
          "base_uri": "https://localhost:8080/"
        },
        "id": "UpM5ZQrK90pv",
        "outputId": "f419a15a-00fb-4da1-aa55-5f2abf435f9b"
      },
      "execution_count": 2,
      "outputs": [
        {
          "output_type": "stream",
          "name": "stdout",
          "text": [
            "Archive:  COMBINED.zip\n",
            "replace COMBINED/train.tsv? [y]es, [n]o, [A]ll, [N]one, [r]ename: "
          ]
        }
      ]
    },
    {
      "cell_type": "code",
      "source": [
        "import tensorflow as tf\n",
        "tf.__version__"
      ],
      "metadata": {
        "colab": {
          "base_uri": "https://localhost:8080/",
          "height": 37
        },
        "id": "gdIYMhDU-UBR",
        "outputId": "67552bb6-acba-464d-99f9-f47f0b8a2b58"
      },
      "execution_count": 3,
      "outputs": [
        {
          "output_type": "execute_result",
          "data": {
            "text/plain": [
              "'2.8.0'"
            ],
            "application/vnd.google.colaboratory.intrinsic+json": {
              "type": "string"
            }
          },
          "metadata": {},
          "execution_count": 3
        }
      ]
    },
    {
      "cell_type": "code",
      "source": [
        "tf.config.list_physical_devices()"
      ],
      "metadata": {
        "colab": {
          "base_uri": "https://localhost:8080/"
        },
        "id": "4ZUkJhO5-Yuc",
        "outputId": "5e8e4905-ec5f-4c62-fe17-2e2ba4631c05"
      },
      "execution_count": 4,
      "outputs": [
        {
          "output_type": "execute_result",
          "data": {
            "text/plain": [
              "[PhysicalDevice(name='/physical_device:CPU:0', device_type='CPU'),\n",
              " PhysicalDevice(name='/physical_device:GPU:0', device_type='GPU')]"
            ]
          },
          "metadata": {},
          "execution_count": 4
        }
      ]
    },
    {
      "cell_type": "code",
      "source": [
        "import pandas as pd\n",
        "from datasets import Dataset\n",
        "from transformers import AutoTokenizer\n",
        "from transformers import create_optimizer, AdamWeightDecay\n",
        "from transformers import TFAutoModelForSeq2SeqLM\n",
        "from transformers import DataCollatorForSeq2Seq\n"
      ],
      "metadata": {
        "id": "dJxjWzZd-atA"
      },
      "execution_count": 6,
      "outputs": []
    },
    {
      "cell_type": "code",
      "source": [
        "df_test = pd.read_csv('COMBINED/test.tsv', sep = '\\t', names=['in', 'expected'])\n",
        "df_test"
      ],
      "metadata": {
        "colab": {
          "base_uri": "https://localhost:8080/",
          "height": 419
        },
        "id": "XZC6LoGA-vzq",
        "outputId": "603373ef-80f2-4db6-aac5-8b65a26e75be"
      },
      "execution_count": 7,
      "outputs": [
        {
          "output_type": "execute_result",
          "data": {
            "text/plain": [
              "                                                     in  \\\n",
              "0     PCCW's chief operating officer, Mike Butcher, ...   \n",
              "1     The world's two largest automakers said their ...   \n",
              "2     According to the federal Centers for Disease C...   \n",
              "3     A tropical storm rapidly developed in the Gulf...   \n",
              "4     The company didn't detail the costs of the rep...   \n",
              "...                                                 ...   \n",
              "5172  Twice Sparrow sold the island twice to Thomas ...   \n",
              "5173  The name in Tupi means `` insensitive stone ''...   \n",
              "5174  The company has branches in Tokyo , based in t...   \n",
              "5175  The modern coat of arms of Bavaria was designe...   \n",
              "5176  It is located near Point Pleasant Borough , a ...   \n",
              "\n",
              "                                               expected  \n",
              "0     Current Chief Operating Officer Mike Butcher a...  \n",
              "1     Domestic sales at both GM and No. 2 Ford Motor...  \n",
              "2     The Centers for Disease Control and Prevention...  \n",
              "3     A tropical storm rapidly developed in the Gulf...  \n",
              "4     But company officials expect the costs of the ...  \n",
              "...                                                 ...  \n",
              "5172  Sparrow twice sold the island to Thomas Polloc...  \n",
              "5173  The name in Tupi means '' hard stone `` , '' i...  \n",
              "5174  The company has branches in Tokyo based in Sai...  \n",
              "5175  The modern coat of arms of Bavaria was designe...  \n",
              "5176  It is near Point Pleasant borough , a municipa...  \n",
              "\n",
              "[5177 rows x 2 columns]"
            ],
            "text/html": [
              "\n",
              "  <div id=\"df-dc170013-be40-465a-aa00-672ab163e074\">\n",
              "    <div class=\"colab-df-container\">\n",
              "      <div>\n",
              "<style scoped>\n",
              "    .dataframe tbody tr th:only-of-type {\n",
              "        vertical-align: middle;\n",
              "    }\n",
              "\n",
              "    .dataframe tbody tr th {\n",
              "        vertical-align: top;\n",
              "    }\n",
              "\n",
              "    .dataframe thead th {\n",
              "        text-align: right;\n",
              "    }\n",
              "</style>\n",
              "<table border=\"1\" class=\"dataframe\">\n",
              "  <thead>\n",
              "    <tr style=\"text-align: right;\">\n",
              "      <th></th>\n",
              "      <th>in</th>\n",
              "      <th>expected</th>\n",
              "    </tr>\n",
              "  </thead>\n",
              "  <tbody>\n",
              "    <tr>\n",
              "      <th>0</th>\n",
              "      <td>PCCW's chief operating officer, Mike Butcher, ...</td>\n",
              "      <td>Current Chief Operating Officer Mike Butcher a...</td>\n",
              "    </tr>\n",
              "    <tr>\n",
              "      <th>1</th>\n",
              "      <td>The world's two largest automakers said their ...</td>\n",
              "      <td>Domestic sales at both GM and No. 2 Ford Motor...</td>\n",
              "    </tr>\n",
              "    <tr>\n",
              "      <th>2</th>\n",
              "      <td>According to the federal Centers for Disease C...</td>\n",
              "      <td>The Centers for Disease Control and Prevention...</td>\n",
              "    </tr>\n",
              "    <tr>\n",
              "      <th>3</th>\n",
              "      <td>A tropical storm rapidly developed in the Gulf...</td>\n",
              "      <td>A tropical storm rapidly developed in the Gulf...</td>\n",
              "    </tr>\n",
              "    <tr>\n",
              "      <th>4</th>\n",
              "      <td>The company didn't detail the costs of the rep...</td>\n",
              "      <td>But company officials expect the costs of the ...</td>\n",
              "    </tr>\n",
              "    <tr>\n",
              "      <th>...</th>\n",
              "      <td>...</td>\n",
              "      <td>...</td>\n",
              "    </tr>\n",
              "    <tr>\n",
              "      <th>5172</th>\n",
              "      <td>Twice Sparrow sold the island twice to Thomas ...</td>\n",
              "      <td>Sparrow twice sold the island to Thomas Polloc...</td>\n",
              "    </tr>\n",
              "    <tr>\n",
              "      <th>5173</th>\n",
              "      <td>The name in Tupi means `` insensitive stone ''...</td>\n",
              "      <td>The name in Tupi means '' hard stone `` , '' i...</td>\n",
              "    </tr>\n",
              "    <tr>\n",
              "      <th>5174</th>\n",
              "      <td>The company has branches in Tokyo , based in t...</td>\n",
              "      <td>The company has branches in Tokyo based in Sai...</td>\n",
              "    </tr>\n",
              "    <tr>\n",
              "      <th>5175</th>\n",
              "      <td>The modern coat of arms of Bavaria was designe...</td>\n",
              "      <td>The modern coat of arms of Bavaria was designe...</td>\n",
              "    </tr>\n",
              "    <tr>\n",
              "      <th>5176</th>\n",
              "      <td>It is located near Point Pleasant Borough , a ...</td>\n",
              "      <td>It is near Point Pleasant borough , a municipa...</td>\n",
              "    </tr>\n",
              "  </tbody>\n",
              "</table>\n",
              "<p>5177 rows × 2 columns</p>\n",
              "</div>\n",
              "      <button class=\"colab-df-convert\" onclick=\"convertToInteractive('df-dc170013-be40-465a-aa00-672ab163e074')\"\n",
              "              title=\"Convert this dataframe to an interactive table.\"\n",
              "              style=\"display:none;\">\n",
              "        \n",
              "  <svg xmlns=\"http://www.w3.org/2000/svg\" height=\"24px\"viewBox=\"0 0 24 24\"\n",
              "       width=\"24px\">\n",
              "    <path d=\"M0 0h24v24H0V0z\" fill=\"none\"/>\n",
              "    <path d=\"M18.56 5.44l.94 2.06.94-2.06 2.06-.94-2.06-.94-.94-2.06-.94 2.06-2.06.94zm-11 1L8.5 8.5l.94-2.06 2.06-.94-2.06-.94L8.5 2.5l-.94 2.06-2.06.94zm10 10l.94 2.06.94-2.06 2.06-.94-2.06-.94-.94-2.06-.94 2.06-2.06.94z\"/><path d=\"M17.41 7.96l-1.37-1.37c-.4-.4-.92-.59-1.43-.59-.52 0-1.04.2-1.43.59L10.3 9.45l-7.72 7.72c-.78.78-.78 2.05 0 2.83L4 21.41c.39.39.9.59 1.41.59.51 0 1.02-.2 1.41-.59l7.78-7.78 2.81-2.81c.8-.78.8-2.07 0-2.86zM5.41 20L4 18.59l7.72-7.72 1.47 1.35L5.41 20z\"/>\n",
              "  </svg>\n",
              "      </button>\n",
              "      \n",
              "  <style>\n",
              "    .colab-df-container {\n",
              "      display:flex;\n",
              "      flex-wrap:wrap;\n",
              "      gap: 12px;\n",
              "    }\n",
              "\n",
              "    .colab-df-convert {\n",
              "      background-color: #E8F0FE;\n",
              "      border: none;\n",
              "      border-radius: 50%;\n",
              "      cursor: pointer;\n",
              "      display: none;\n",
              "      fill: #1967D2;\n",
              "      height: 32px;\n",
              "      padding: 0 0 0 0;\n",
              "      width: 32px;\n",
              "    }\n",
              "\n",
              "    .colab-df-convert:hover {\n",
              "      background-color: #E2EBFA;\n",
              "      box-shadow: 0px 1px 2px rgba(60, 64, 67, 0.3), 0px 1px 3px 1px rgba(60, 64, 67, 0.15);\n",
              "      fill: #174EA6;\n",
              "    }\n",
              "\n",
              "    [theme=dark] .colab-df-convert {\n",
              "      background-color: #3B4455;\n",
              "      fill: #D2E3FC;\n",
              "    }\n",
              "\n",
              "    [theme=dark] .colab-df-convert:hover {\n",
              "      background-color: #434B5C;\n",
              "      box-shadow: 0px 1px 3px 1px rgba(0, 0, 0, 0.15);\n",
              "      filter: drop-shadow(0px 1px 2px rgba(0, 0, 0, 0.3));\n",
              "      fill: #FFFFFF;\n",
              "    }\n",
              "  </style>\n",
              "\n",
              "      <script>\n",
              "        const buttonEl =\n",
              "          document.querySelector('#df-dc170013-be40-465a-aa00-672ab163e074 button.colab-df-convert');\n",
              "        buttonEl.style.display =\n",
              "          google.colab.kernel.accessAllowed ? 'block' : 'none';\n",
              "\n",
              "        async function convertToInteractive(key) {\n",
              "          const element = document.querySelector('#df-dc170013-be40-465a-aa00-672ab163e074');\n",
              "          const dataTable =\n",
              "            await google.colab.kernel.invokeFunction('convertToInteractive',\n",
              "                                                     [key], {});\n",
              "          if (!dataTable) return;\n",
              "\n",
              "          const docLinkHtml = 'Like what you see? Visit the ' +\n",
              "            '<a target=\"_blank\" href=https://colab.research.google.com/notebooks/data_table.ipynb>data table notebook</a>'\n",
              "            + ' to learn more about interactive tables.';\n",
              "          element.innerHTML = '';\n",
              "          dataTable['output_type'] = 'display_data';\n",
              "          await google.colab.output.renderOutput(dataTable, element);\n",
              "          const docLink = document.createElement('div');\n",
              "          docLink.innerHTML = docLinkHtml;\n",
              "          element.appendChild(docLink);\n",
              "        }\n",
              "      </script>\n",
              "    </div>\n",
              "  </div>\n",
              "  "
            ]
          },
          "metadata": {},
          "execution_count": 7
        }
      ]
    },
    {
      "cell_type": "code",
      "source": [
        "df_train = pd.read_csv('COMBINED/train.tsv', sep = '\\t', names=['in', 'expected'])\n",
        "df_train"
      ],
      "metadata": {
        "colab": {
          "base_uri": "https://localhost:8080/",
          "height": 419
        },
        "id": "In5PDkPJ-3TQ",
        "outputId": "92932526-1e43-4cdf-bd33-99f6623fde8b"
      },
      "execution_count": 8,
      "outputs": [
        {
          "output_type": "execute_result",
          "data": {
            "text/plain": [
              "                                                      in  \\\n",
              "0      Amrozi accused his brother, whom he called \"th...   \n",
              "1      Referring to him as only \"the witness\", Amrozi...   \n",
              "2      Yucaipa owned Dominick's before selling the ch...   \n",
              "3      Yucaipa bought Dominick's in 1995 for $693 mil...   \n",
              "4      They had published an advertisement on the Int...   \n",
              "...                                                  ...   \n",
              "58613  Tommy Connolly , who plays Rory Jennings , pla...   \n",
              "58614  Monroe Meadows , in Yosemite valley near Brida...   \n",
              "58615  Monroe Meadows , in Yosemite Valley near Brida...   \n",
              "58616  In 2014 the site launched iOS and Android appl...   \n",
              "58617  In 2014 launched the site iOS and Android - ap...   \n",
              "\n",
              "                                                expected  \n",
              "0      Referring to him as only \"the witness\", Amrozi...  \n",
              "1      Amrozi accused his brother, whom he called \"th...  \n",
              "2      Yucaipa bought Dominick's in 1995 for $693 mil...  \n",
              "3      Yucaipa owned Dominick's before selling the ch...  \n",
              "4      On June 10, the ship's owners had published an...  \n",
              "...                                                  ...  \n",
              "58613  Tommy Connolly , who plays Rory Jennings , pla...  \n",
              "58614  Monroe Meadows , in Yosemite Valley near Brida...  \n",
              "58615  Monroe Meadows , in Yosemite valley near Brida...  \n",
              "58616  In 2014 launched the site iOS and Android - ap...  \n",
              "58617  In 2014 the site launched iOS and Android appl...  \n",
              "\n",
              "[58618 rows x 2 columns]"
            ],
            "text/html": [
              "\n",
              "  <div id=\"df-765a1979-e0a3-4d72-a4f5-85c413599a42\">\n",
              "    <div class=\"colab-df-container\">\n",
              "      <div>\n",
              "<style scoped>\n",
              "    .dataframe tbody tr th:only-of-type {\n",
              "        vertical-align: middle;\n",
              "    }\n",
              "\n",
              "    .dataframe tbody tr th {\n",
              "        vertical-align: top;\n",
              "    }\n",
              "\n",
              "    .dataframe thead th {\n",
              "        text-align: right;\n",
              "    }\n",
              "</style>\n",
              "<table border=\"1\" class=\"dataframe\">\n",
              "  <thead>\n",
              "    <tr style=\"text-align: right;\">\n",
              "      <th></th>\n",
              "      <th>in</th>\n",
              "      <th>expected</th>\n",
              "    </tr>\n",
              "  </thead>\n",
              "  <tbody>\n",
              "    <tr>\n",
              "      <th>0</th>\n",
              "      <td>Amrozi accused his brother, whom he called \"th...</td>\n",
              "      <td>Referring to him as only \"the witness\", Amrozi...</td>\n",
              "    </tr>\n",
              "    <tr>\n",
              "      <th>1</th>\n",
              "      <td>Referring to him as only \"the witness\", Amrozi...</td>\n",
              "      <td>Amrozi accused his brother, whom he called \"th...</td>\n",
              "    </tr>\n",
              "    <tr>\n",
              "      <th>2</th>\n",
              "      <td>Yucaipa owned Dominick's before selling the ch...</td>\n",
              "      <td>Yucaipa bought Dominick's in 1995 for $693 mil...</td>\n",
              "    </tr>\n",
              "    <tr>\n",
              "      <th>3</th>\n",
              "      <td>Yucaipa bought Dominick's in 1995 for $693 mil...</td>\n",
              "      <td>Yucaipa owned Dominick's before selling the ch...</td>\n",
              "    </tr>\n",
              "    <tr>\n",
              "      <th>4</th>\n",
              "      <td>They had published an advertisement on the Int...</td>\n",
              "      <td>On June 10, the ship's owners had published an...</td>\n",
              "    </tr>\n",
              "    <tr>\n",
              "      <th>...</th>\n",
              "      <td>...</td>\n",
              "      <td>...</td>\n",
              "    </tr>\n",
              "    <tr>\n",
              "      <th>58613</th>\n",
              "      <td>Tommy Connolly , who plays Rory Jennings , pla...</td>\n",
              "      <td>Tommy Connolly , who plays Rory Jennings , pla...</td>\n",
              "    </tr>\n",
              "    <tr>\n",
              "      <th>58614</th>\n",
              "      <td>Monroe Meadows , in Yosemite valley near Brida...</td>\n",
              "      <td>Monroe Meadows , in Yosemite Valley near Brida...</td>\n",
              "    </tr>\n",
              "    <tr>\n",
              "      <th>58615</th>\n",
              "      <td>Monroe Meadows , in Yosemite Valley near Brida...</td>\n",
              "      <td>Monroe Meadows , in Yosemite valley near Brida...</td>\n",
              "    </tr>\n",
              "    <tr>\n",
              "      <th>58616</th>\n",
              "      <td>In 2014 the site launched iOS and Android appl...</td>\n",
              "      <td>In 2014 launched the site iOS and Android - ap...</td>\n",
              "    </tr>\n",
              "    <tr>\n",
              "      <th>58617</th>\n",
              "      <td>In 2014 launched the site iOS and Android - ap...</td>\n",
              "      <td>In 2014 the site launched iOS and Android appl...</td>\n",
              "    </tr>\n",
              "  </tbody>\n",
              "</table>\n",
              "<p>58618 rows × 2 columns</p>\n",
              "</div>\n",
              "      <button class=\"colab-df-convert\" onclick=\"convertToInteractive('df-765a1979-e0a3-4d72-a4f5-85c413599a42')\"\n",
              "              title=\"Convert this dataframe to an interactive table.\"\n",
              "              style=\"display:none;\">\n",
              "        \n",
              "  <svg xmlns=\"http://www.w3.org/2000/svg\" height=\"24px\"viewBox=\"0 0 24 24\"\n",
              "       width=\"24px\">\n",
              "    <path d=\"M0 0h24v24H0V0z\" fill=\"none\"/>\n",
              "    <path d=\"M18.56 5.44l.94 2.06.94-2.06 2.06-.94-2.06-.94-.94-2.06-.94 2.06-2.06.94zm-11 1L8.5 8.5l.94-2.06 2.06-.94-2.06-.94L8.5 2.5l-.94 2.06-2.06.94zm10 10l.94 2.06.94-2.06 2.06-.94-2.06-.94-.94-2.06-.94 2.06-2.06.94z\"/><path d=\"M17.41 7.96l-1.37-1.37c-.4-.4-.92-.59-1.43-.59-.52 0-1.04.2-1.43.59L10.3 9.45l-7.72 7.72c-.78.78-.78 2.05 0 2.83L4 21.41c.39.39.9.59 1.41.59.51 0 1.02-.2 1.41-.59l7.78-7.78 2.81-2.81c.8-.78.8-2.07 0-2.86zM5.41 20L4 18.59l7.72-7.72 1.47 1.35L5.41 20z\"/>\n",
              "  </svg>\n",
              "      </button>\n",
              "      \n",
              "  <style>\n",
              "    .colab-df-container {\n",
              "      display:flex;\n",
              "      flex-wrap:wrap;\n",
              "      gap: 12px;\n",
              "    }\n",
              "\n",
              "    .colab-df-convert {\n",
              "      background-color: #E8F0FE;\n",
              "      border: none;\n",
              "      border-radius: 50%;\n",
              "      cursor: pointer;\n",
              "      display: none;\n",
              "      fill: #1967D2;\n",
              "      height: 32px;\n",
              "      padding: 0 0 0 0;\n",
              "      width: 32px;\n",
              "    }\n",
              "\n",
              "    .colab-df-convert:hover {\n",
              "      background-color: #E2EBFA;\n",
              "      box-shadow: 0px 1px 2px rgba(60, 64, 67, 0.3), 0px 1px 3px 1px rgba(60, 64, 67, 0.15);\n",
              "      fill: #174EA6;\n",
              "    }\n",
              "\n",
              "    [theme=dark] .colab-df-convert {\n",
              "      background-color: #3B4455;\n",
              "      fill: #D2E3FC;\n",
              "    }\n",
              "\n",
              "    [theme=dark] .colab-df-convert:hover {\n",
              "      background-color: #434B5C;\n",
              "      box-shadow: 0px 1px 3px 1px rgba(0, 0, 0, 0.15);\n",
              "      filter: drop-shadow(0px 1px 2px rgba(0, 0, 0, 0.3));\n",
              "      fill: #FFFFFF;\n",
              "    }\n",
              "  </style>\n",
              "\n",
              "      <script>\n",
              "        const buttonEl =\n",
              "          document.querySelector('#df-765a1979-e0a3-4d72-a4f5-85c413599a42 button.colab-df-convert');\n",
              "        buttonEl.style.display =\n",
              "          google.colab.kernel.accessAllowed ? 'block' : 'none';\n",
              "\n",
              "        async function convertToInteractive(key) {\n",
              "          const element = document.querySelector('#df-765a1979-e0a3-4d72-a4f5-85c413599a42');\n",
              "          const dataTable =\n",
              "            await google.colab.kernel.invokeFunction('convertToInteractive',\n",
              "                                                     [key], {});\n",
              "          if (!dataTable) return;\n",
              "\n",
              "          const docLinkHtml = 'Like what you see? Visit the ' +\n",
              "            '<a target=\"_blank\" href=https://colab.research.google.com/notebooks/data_table.ipynb>data table notebook</a>'\n",
              "            + ' to learn more about interactive tables.';\n",
              "          element.innerHTML = '';\n",
              "          dataTable['output_type'] = 'display_data';\n",
              "          await google.colab.output.renderOutput(dataTable, element);\n",
              "          const docLink = document.createElement('div');\n",
              "          docLink.innerHTML = docLinkHtml;\n",
              "          element.appendChild(docLink);\n",
              "        }\n",
              "      </script>\n",
              "    </div>\n",
              "  </div>\n",
              "  "
            ]
          },
          "metadata": {},
          "execution_count": 8
        }
      ]
    },
    {
      "cell_type": "code",
      "source": [
        "dataset_test = Dataset.from_pandas(df_test)\n",
        "dataset_train = Dataset.from_pandas(df_train)"
      ],
      "metadata": {
        "id": "_bdKbNNE-8Ci"
      },
      "execution_count": 9,
      "outputs": []
    },
    {
      "cell_type": "code",
      "source": [
        "init_weights = 't5-small'\n",
        "tokenizer = AutoTokenizer.from_pretrained(init_weights)\n",
        "\n",
        "def preprocess_function(examples):\n",
        "    prefix = 'paraphrase: '\n",
        "    inputs = [prefix + doc for doc in examples[\"in\"]]\n",
        "    model_inputs = tokenizer(inputs, max_length=512, truncation=True)\n",
        "\n",
        "    with tokenizer.as_target_tokenizer():\n",
        "        labels = tokenizer(examples[\"expected\"], max_length=512, truncation=True)\n",
        "\n",
        "    model_inputs[\"labels\"] = labels[\"input_ids\"]\n",
        "    return model_inputs\n",
        "\n",
        "tokenized_test = dataset_test.map(preprocess_function, batched=True)\n",
        "tokenized_train = dataset_train.map(preprocess_function, batched=True)"
      ],
      "metadata": {
        "colab": {
          "base_uri": "https://localhost:8080/",
          "height": 81,
          "referenced_widgets": [
            "1605e01049aa496883d93a311f2d33b1",
            "7b012d41d4504636b068033c94193427",
            "4d0ab67f4b8f489c8ded6f87cef6bd68",
            "55240652bce74fd892c317922cea5621",
            "26283acd3f144e38bd6335cb60509d04",
            "f63ffe8e553344b29f59d984f7878aee",
            "7ddd8c82b072416d8af8ce9312b7a086",
            "00a65412684c48d5aa848904d97ca12e",
            "94e47947110149269299ca99f25c65c5",
            "3f2c92d3733b4a89a754ecb3ed9161d7",
            "ad4eb4cbc99b432baf51c8b041734280",
            "b190f069c3b44ec38dc511338e27b811",
            "58505bd4230a46458f527eefb33286a1",
            "76b0c400bfa44ce493beccd5fc3df7a3",
            "2b445d552c7d4c66b97f872affa3fffd",
            "ca7019a688034524868352ff919e64c0",
            "89ad595383324ed98c24f2462e4af87c",
            "3ce41255ccc24fd288e24abf8546c7c2",
            "157394958d9a4b21bbcb9867bfe3492e",
            "85ffd819d55b46a7abfb516f06177004",
            "7024066869fc4a7f8371eb39d43a68d2",
            "780f5b4db2264c088c427d5e1fb40222"
          ]
        },
        "id": "um6H6QLP-_-h",
        "outputId": "f73e0b75-65bd-42ab-a0ff-66cf3f31e293"
      },
      "execution_count": 57,
      "outputs": [
        {
          "output_type": "display_data",
          "data": {
            "text/plain": [
              "  0%|          | 0/6 [00:00<?, ?ba/s]"
            ],
            "application/vnd.jupyter.widget-view+json": {
              "version_major": 2,
              "version_minor": 0,
              "model_id": "1605e01049aa496883d93a311f2d33b1"
            }
          },
          "metadata": {}
        },
        {
          "output_type": "display_data",
          "data": {
            "text/plain": [
              "  0%|          | 0/59 [00:00<?, ?ba/s]"
            ],
            "application/vnd.jupyter.widget-view+json": {
              "version_major": 2,
              "version_minor": 0,
              "model_id": "b190f069c3b44ec38dc511338e27b811"
            }
          },
          "metadata": {}
        }
      ]
    },
    {
      "cell_type": "code",
      "source": [
        "tokenized_train_small = tokenized_train.shuffle(seed=42).select(range(30000))\n",
        "tokenized_test_small = tokenized_test.shuffle(seed=42).select(range(1500))"
      ],
      "metadata": {
        "id": "DypziO-6_IaS"
      },
      "execution_count": 58,
      "outputs": []
    },
    {
      "cell_type": "code",
      "source": [
        "model = TFAutoModelForSeq2SeqLM.from_pretrained(init_weights)\n",
        "optimizer = AdamWeightDecay(learning_rate=1e-4, weight_decay_rate=0.01)\n",
        "data_collator = DataCollatorForSeq2Seq(tokenizer=tokenizer, model=model, return_tensors=\"tf\")"
      ],
      "metadata": {
        "colab": {
          "base_uri": "https://localhost:8080/"
        },
        "id": "V-2_net9_QJT",
        "outputId": "7d4e0194-9969-4144-c024-f44e6a167d66"
      },
      "execution_count": 59,
      "outputs": [
        {
          "output_type": "stream",
          "name": "stderr",
          "text": [
            "All model checkpoint layers were used when initializing TFT5ForConditionalGeneration.\n",
            "\n",
            "All the layers of TFT5ForConditionalGeneration were initialized from the model checkpoint at t5-small.\n",
            "If your task is similar to the task the model of the checkpoint was trained on, you can already use TFT5ForConditionalGeneration for predictions without further training.\n"
          ]
        }
      ]
    },
    {
      "cell_type": "code",
      "source": [
        "tf_train_set = tokenized_train_small.to_tf_dataset(\n",
        "    columns=[\"attention_mask\", \"input_ids\", \"labels\"],\n",
        "    shuffle=True,\n",
        "    batch_size=16,\n",
        "    collate_fn=data_collator,\n",
        ")\n",
        "tf_test_set = tokenized_test_small.to_tf_dataset(\n",
        "    columns=[\"attention_mask\", \"input_ids\", \"labels\"],\n",
        "    shuffle=False,\n",
        "    batch_size=16,\n",
        "    collate_fn=data_collator,\n",
        ")"
      ],
      "metadata": {
        "id": "RsU5pA2y_T99"
      },
      "execution_count": 60,
      "outputs": []
    },
    {
      "cell_type": "code",
      "source": [
        "model.compile(optimizer=optimizer)"
      ],
      "metadata": {
        "colab": {
          "base_uri": "https://localhost:8080/"
        },
        "id": "EsfDngY8_ZqN",
        "outputId": "bafd3767-3a0e-4537-bd76-dc3cb907343a"
      },
      "execution_count": 61,
      "outputs": [
        {
          "output_type": "stream",
          "name": "stderr",
          "text": [
            "No loss specified in compile() - the model's internal loss computation will be used as the loss. Don't panic - this is a common way to train TensorFlow models in Transformers! To disable this behaviour, please pass a loss argument, or explicitly pass `loss=None` if you do not want your model to compute a loss.\n"
          ]
        }
      ]
    },
    {
      "cell_type": "code",
      "source": [
        "model.fit(x=tf_train_set, validation_data=tf_test_set, epochs=1)\n"
      ],
      "metadata": {
        "colab": {
          "base_uri": "https://localhost:8080/"
        },
        "id": "fGTRDVS6_cI1",
        "outputId": "5b6a2b5b-26f7-4820-911f-548f56727e2c"
      },
      "execution_count": 62,
      "outputs": [
        {
          "output_type": "stream",
          "name": "stdout",
          "text": [
            "1875/1875 [==============================] - 295s 149ms/step - loss: 0.7642 - val_loss: 0.9493\n"
          ]
        },
        {
          "output_type": "execute_result",
          "data": {
            "text/plain": [
              "<keras.callbacks.History at 0x7f76d58b5610>"
            ]
          },
          "metadata": {},
          "execution_count": 62
        }
      ]
    },
    {
      "cell_type": "code",
      "source": [
        "model.save_pretrained('checkpoints/t5savedv4')\n"
      ],
      "metadata": {
        "id": "daj4eJSz_k6o"
      },
      "execution_count": 67,
      "outputs": []
    },
    {
      "cell_type": "code",
      "source": [
        "!zip -r 'checkpoints.zip' 'checkpoints/'"
      ],
      "metadata": {
        "colab": {
          "base_uri": "https://localhost:8080/"
        },
        "id": "VpUoNwXtPgWp",
        "outputId": "9b40194c-6a84-493f-e6de-ceb46563bce7"
      },
      "execution_count": 75,
      "outputs": [
        {
          "output_type": "stream",
          "name": "stdout",
          "text": [
            "  adding: checkpoints/ (stored 0%)\n",
            "  adding: checkpoints/t5savedv4/ (stored 0%)\n",
            "  adding: checkpoints/t5savedv4/tf_model.h5 (deflated 9%)\n",
            "  adding: checkpoints/t5savedv4/config.json (deflated 63%)\n",
            "  adding: checkpoints/t5saved/ (stored 0%)\n",
            "  adding: checkpoints/t5saved/tf_model.h5 (deflated 8%)\n",
            "  adding: checkpoints/t5saved/config.json (deflated 63%)\n",
            "  adding: checkpoints/t5savedv2/ (stored 0%)\n",
            "  adding: checkpoints/t5savedv2/tf_model.h5 (deflated 8%)\n",
            "  adding: checkpoints/t5savedv2/config.json (deflated 63%)\n",
            "  adding: checkpoints/t5savedv3/ (stored 0%)\n",
            "  adding: checkpoints/t5savedv3/tf_model.h5 (deflated 8%)\n",
            "  adding: checkpoints/t5savedv3/config.json (deflated 62%)\n"
          ]
        }
      ]
    },
    {
      "cell_type": "code",
      "source": [
        "model = TFAutoModelForSeq2SeqLM.from_pretrained('checkpoints/t5savedv4')\n"
      ],
      "metadata": {
        "colab": {
          "base_uri": "https://localhost:8080/"
        },
        "id": "3-A3D9Mc_wwz",
        "outputId": "b201b2e8-dda0-436a-e35e-5e1f4f6443f1"
      },
      "execution_count": 70,
      "outputs": [
        {
          "output_type": "stream",
          "name": "stderr",
          "text": [
            "All model checkpoint layers were used when initializing TFT5ForConditionalGeneration.\n",
            "\n",
            "All the layers of TFT5ForConditionalGeneration were initialized from the model checkpoint at checkpoints/t5savedv4.\n",
            "If your task is similar to the task the model of the checkpoint was trained on, you can already use TFT5ForConditionalGeneration for predictions without further training.\n"
          ]
        }
      ]
    },
    {
      "cell_type": "code",
      "source": [
        "# inference"
      ],
      "metadata": {
        "id": "TESKe1AJ_gg7"
      },
      "execution_count": null,
      "outputs": []
    },
    {
      "cell_type": "code",
      "source": [
        "for idx, row in df_test.head(15).iterrows():\n",
        "    print('Input: ', row['in'])\n",
        "    to_model = 'paraphrase: ' + row['in']\n",
        "\n",
        "    # sentence = 'paraphrase: We should go to the movies today because it is raining.'\n",
        "    encoding = tokenizer(row['in'], return_tensors=\"tf\")\n",
        "    input_ids, attention_masks = encoding[\"input_ids\"], encoding[\"attention_mask\"]\n",
        "    out = model.generate(input_ids=input_ids, do_sample=True, attention_mask=attention_masks, max_length=512,\n",
        "                         top_k=250, top_p=0.99, early_stopping=True, num_return_sequences=5)\n",
        "    # print(out)\n",
        "    for p in out:\n",
        "      result = tokenizer.decode(p, skip_special_tokens=True)\n",
        "      print('Prediction: ', result)\n",
        "    print('Expected: ', row['expected'])\n",
        "    print()"
      ],
      "metadata": {
        "colab": {
          "base_uri": "https://localhost:8080/"
        },
        "id": "XpjSdzK-_qVk",
        "outputId": "d26eec06-6641-4a24-8626-1727d675c2d5"
      },
      "execution_count": 74,
      "outputs": [
        {
          "output_type": "stream",
          "name": "stdout",
          "text": [
            "Input:  PCCW's chief operating officer, Mike Butcher, and Alex Arena, the chief financial officer, will report directly to Mr So.\n",
            "Prediction:  Mike Butcher, chief operating officer of PCCW, and Alex Arena, chief financial officer, will report directly to Mr So.\n",
            "Prediction:  Mike Butcher, PCCW's chief operating officer, and Alex Arena, the chief financial officer, will head the finance department to him.\n",
            "Prediction:  Mike Butcher, PCCW's chief operating officer, and Alex Arena, the chief financial officer, will report directly to Mr. So.\n",
            "Prediction:  The executive of PCCW, Mike Butcher, and Mike Butcher, Chief Financial Officer of PCCW, will report directly to Mr So.\n",
            "Prediction:  Mike Butcher, chief operating officer of PCCW, and Alex Arena, chief financial officer of PCCW, will erected direct reports for you.\n",
            "Expected:  Current Chief Operating Officer Mike Butcher and Group Chief Financial Officer Alex Arena will report to So.\n",
            "\n",
            "Input:  The world's two largest automakers said their U.S. sales declined more than predicted last month as a late summer sales frenzy caused more of an industry backlash than expected.\n",
            "Prediction:  The world's worst automakers said their U.S. sales declined more than predicted last month as a late summer sales frenzy caused more of an industry backlash than expected.\n",
            "Prediction:  The largest automakers noted domestic sales declined more than predicted last month as late summer sales frenzy caused more industry backlash than expected.\n",
            "Prediction:  The world's largest automakers said their U.S. sales didn't drop more than expected last month as the late summer sales frenzy caused more of an industry backlash than predicted last month.\n",
            "Prediction:  The world's largest automakers said their U.S. sales declined more than expected last month as a late summer sales frenzy caused more of an industry backlash than expect.\n",
            "Prediction:  The world's two largest automakers said U.S. sales dropped more than predicted last month – up from the rest of the month that June.\n",
            "Expected:  Domestic sales at both GM and No. 2 Ford Motor Co. declined more than predicted as a late summer sales frenzy prompted a larger-than-expected industry backlash.\n",
            "\n",
            "Input:  According to the federal Centers for Disease Control and Prevention (news - web sites), there were 19 reported cases of measles in the United States in 2002.\n",
            "Prediction:  According to the Centers for Disease Control and Prevention (CDC, recent reports indicated that 19 cases of measles were reported in the United States in 2002.\n",
            "Prediction:  According to the federal Centers for Disease Control and Prevention (CCDC - Web sites, in 2002 there were 19 reported cases of measles in the United States.\n",
            "Prediction:  According to the United States News Center (EEPC) there were 19 measles cases in systomie in 2002.\n",
            "Prediction:  According to the latest guidelines, in 2002, there were 19 reported cases of measles in the United States.\n",
            "Prediction:  In 2002, 19 measles cases were reported in the United States, according to the Federal Centers for Disease Control and Prevention (Foreign - Web sites).\n",
            "Expected:  The Centers for Disease Control and Prevention said there were 19 reported cases of measles in the United States in 2002.\n",
            "\n",
            "Input:  A tropical storm rapidly developed in the Gulf of Mexico Sunday and was expected to hit somewhere along the Texas or Louisiana coasts by Monday night.\n",
            "Prediction:  A tropical storm quickly developed in the Gulf of Mexico Sunday and was scheduled to hit somewhere along the Texas or Louisiana coasts by Tuesday evening.\n",
            "Prediction:  Another tropical storm rapidly developed in the Gulf of Mexico Sunday and forecast was expected for Sunday night to hit some western places along the state coasts.\n",
            "Prediction:  And tropical storms quickly developed in the Gulf of Mexico Sunday and was expected to hit somewhere along the Texas or Louisiana coasts by Monday night.\n",
            "Prediction:  A tropical storm recently developed early in the Gulf of Mexico Sunday and was expected to hit other areas along the Texas or Louisiana coast this week.\n",
            "Prediction:  A tropical storm near Mexico is expected to hit the Gulf of Mexico Monday.\n",
            "Expected:  A tropical storm rapidly developed in the Gulf of Mexico on Sunday and could have hurricane-force winds when it hits land somewhere along the Louisiana coast Monday night.\n",
            "\n",
            "Input:  The company didn't detail the costs of the replacement and repairs.\n",
            "Prediction:  The company didn't detail the costs of the replacement and repairs.\n",
            "Prediction:  The company did not detail the costs of the replacement and repair.\n",
            "Prediction:  The company obtained no details on the costs of the replacement and repair.\n",
            "Prediction:  The company declined to detail the cost of the replacement and repairs.\n",
            "Prediction:  The company didn't detail the costs of replacement & repairs.\n",
            "Expected:  But company officials expect the costs of the replacement work to run into the millions of dollars.\n",
            "\n",
            "Input:  The settling companies would also assign their possible claims against the underwriters to the investor plaintiffs, he added.\n",
            "Prediction:  He said the settling companies would also assign their possible claims against underwriters to the investor plaintiffs, he said.\n",
            "Prediction:  His proposal would also assign the settling companies their possible claim against the underwriters to investors, he added.\n",
            "Prediction:  The settling companies would also assign their possible assertions against the underwriters to funders, he added.\n",
            "Prediction:  The settling companies would also assign their possible claims to the underwriters to the investor plaintiffs, he added.\n",
            "Prediction:  The settling companies would also assign their possible claims to the investor plaintiffs, he added.\n",
            "Expected:  Under the agreement, the settling companies will also assign their potential claims against the underwriters to the investors, he added.\n",
            "\n",
            "Input:  Air Commodore Quaife said the Hornets remained on three-minute alert throughout the operation.\n",
            "Prediction:  Quaife said the Hornets remain on a three-minute alert and stayed on the sub-air for the operation.\n",
            "Prediction:  AirCommodore Quaife said the Hornets kept on one single call anytime throughout an operation.\n",
            "Prediction:  Air Commodore Quaife said the Hornets remain on alert throughout the operation.\n",
            "Prediction:  Air's Air Commodore Quaife said the Hornets and its crew remained on alert at three-minute.\n",
            "Prediction:  Air Comodore Quaife said the Hornets remained on alert and alert three times a day during a number of emergency operations.\n",
            "Expected:  Air Commodore John Quaife said the security operation was unprecedented.\n",
            "\n",
            "Input:  A Washington County man may have the countys first human case of West Nile virus, the health department said Friday.\n",
            "Prediction:  A Washington County man may have the county's first human case of the West Nile virus, the health department says.\n",
            "Prediction:  A man from Washington County can have the county's first human case of the West Nile virus, official said Friday.\n",
            "Prediction:  The health department from Washington County said Jan. 29, 2010, her husband may have the first medical worker with the West Nile virus, the department said Monday.\n",
            "Prediction:  In Washington County, a man could have the first human case of the West Nile virus, San Francisco Health Department said.\n",
            "Prediction:  a Washington County man may have the county’s first disease, the health department said.\n",
            "Expected:  The countys first and only human case of West Nile this year was confirmed by health officials on Sept. 8.\n",
            "\n",
            "Input:  Moseley and a senior aide delivered their summary assessments to about 300 American and allied military officers on Thursday.\n",
            "Prediction:  On Thursday, Moseley and a senior aide delivered its overview assessments to about 300 American and allied military officers.\n",
            "Prediction:  Lazar Maseley and an endowment deputy editor have delivered their summary assessments of their first quarters.\n",
            "Prediction:  On Thursday, Moseley and a senior aide gave their summary assessment to about 300 American and allied military officers.\n",
            "Prediction:  On Thursday, Moseley and a senior aide delivered their summary assessments to about 300 american and allied military officers.\n",
            "Prediction:  With a senior aide and a senior aide, Moseley delivered information on Thursday to US and allied military officers.\n",
            "Expected:  General Moseley and a senior aide presented their assessments at an internal briefing for American and allied military officers at Nellis Air Force Base in Nevada on Thursday.\n",
            "\n",
            "Input:  The broader Standard & Poor's 500 Index <.SPX> was 0.46 points lower, or 0.05 percent, at 997.02.\n",
            "Prediction:  The more broader Standard & Poor's 500 index.SPX> was 0.35 points lower at 880.06, or 0.94 percent, at 2175.05, up 2.55.\n",
            "Prediction:  The standard & Poor's 500 index,.SPX> — > 0.38 points at 97.02 was 53.8; but ended with 0.87 percent.\n",
            "Prediction:  The broader Standard & Poor's 500 Index.SPX> was 0.46 points lower, or 0.05 percent, at 997.02.\n",
            "Prediction:  The more sophisticated Standard & Poor's 500 Index.SPX  was 0.46 points lower, or 0.05 percent, at 997.02.\n",
            "Prediction:  The greater standard & Poor's 500 index.SPX> was 0.43 points lower in the 997.02.\n",
            "Expected:  The technology-laced Nasdaq Composite Index .IXIC was up 7.42 points, or 0.45 percent, at 1,653.44.\n",
            "\n",
            "Input:  Consumers would still have to get a descrambling security card from their cable operator to plug into the set.\n",
            "Prediction:  Consumers would need another Descrambling security card from their cable operator to plug into the set.\n",
            "Prediction:  Consumers would still have to get a flier to protect from a cable operator, which would get a debit card to plug into the set.\n",
            "Prediction:  Consumers would still have to get a descrambling security card by their cable operator to plug into the set.\n",
            "Prediction:  Consumers would still have to get the card to plug their cable operator that can leave the wire snuck up.\n",
            "Prediction:  Consumers would still have to get a recrambling security card from their cable operator to plug into the set.\n",
            "Expected:  To watch pay television, consumers would insert into the set a security card provided by their cable service.\n",
            "\n",
            "Input:  The increase reflects lower credit losses and favorable interest rates.\n",
            "Prediction:  The hike is a result of higher credit losses and favorable interest rates, and also lower credit losses and higher interest rates.\n",
            "Prediction:  The increase reflects lower credit losses and favorable interest rates.\n",
            "Prediction:  The increase reflects lower credit losses and favorable interest rates.\n",
            "Prediction:  The increase reflects lower credit losses and favorable interest rates.\n",
            "Prediction:  The increase reflects lower credit losses and favorable interest rates.\n",
            "Expected:  The gain came as a result of fewer credit losses and lower interest rates.\n",
            "\n",
            "Input:  The device plays Internet radio streams and comes with a 30-day trial of RealNetworks' Rhapsody music service.\n",
            "Prediction:  The device plays radio streams in the Internet, and comes with a 30-day trial of RealNetworks' Rhapsody music service.\n",
            "Prediction:  The device plays internet radio streams and comes with a 30-day trial of RealNetworks' Rhapsody Music Service.\n",
            "Prediction:  The device plays THREE Internet radio streams and comes with a 30-day trial of RealNetworks music service Rhapsody.\n",
            "Prediction:  The device plays Internet radio streams and is available for 30-day trial of RealNetworks music service Rhapsody.\n",
            "Prediction:  The device also plays Internet radio streams and comes with a 30-day trial of the Rhapsody music service of RealNetworks.\n",
            "Expected:  The product also streams Internet radio and comes with a 30-day free trial for RealNetworks' Rhapsody digital music subscription service.\n",
            "\n",
            "Input:  Hong Kong was flat, Australia , Singapore and South Korea lost 0.2-0.4 percent.\n",
            "Prediction:  Hong Kong was flat, Australia, Singapore and South Korea suffered a loss by 0.40 percent.\n",
            "Prediction:  Hong Kong is flat, Australia, Singapore and South Korea lost 0.24-0.2 percent.\n",
            "Prediction:  Hong Kong was flat, Australia, Singapore and South Korea lost 0.08-1.4 percent.\n",
            "Prediction:  Hong Kong was flat, Australia, Singapore and South Korea dropped 0.50 percent of the total.\n",
            "Prediction:  Hong Kong was flat, Australia, Singapore and South Korea lost 0.2-4 percent.\n",
            "Expected:  Australia was flat, Singapore was down 0.3 percent by midday and South Korea added 0.2 percent.\n",
            "\n",
            "Input:  Evidence suggests two of the victims were taken by surprise, while the other two might have tried to flee or to defend themselves or the others, police said.\n",
            "Prediction:  Evidence suggests two of the victims were taken by surprise, while the other two could have tried to flee or defend themselves or the others, police said.\n",
            "Prediction:  Evidence suggests the victims were taken by surprise and two reportedly tried to flee or defend themselves or others, police said.\n",
            "Prediction:  Evidence suggests two victims were taken by surprise and the other two might have tried to flee or defended themselves or others, police said.\n",
            "Prediction:  Two of the victims were taken out by surprise, while the other two might have tried to flee or to defend themselves or the other victims, police said Tuesday.\n",
            "Prediction:  Evidence suggests two victims were taken by surprise, while the others have tried to flee or defend themselves, police said.\n",
            "Expected:  Evidence suggests two victims were taken by surprise, while the others may have tried to flee or perhaps defend themselves or their friends, police said.\n",
            "\n"
          ]
        }
      ]
    },
    {
      "cell_type": "code",
      "source": [
        ""
      ],
      "metadata": {
        "id": "TkojB8n5EzQl"
      },
      "execution_count": null,
      "outputs": []
    }
  ]
}