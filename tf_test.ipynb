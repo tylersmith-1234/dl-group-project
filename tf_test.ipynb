{
 "cells": [
  {
   "cell_type": "code",
   "execution_count": 1,
   "metadata": {},
   "outputs": [
    {
     "name": "stdout",
     "output_type": "stream",
     "text": [
      "Package                 Version\n",
      "----------------------- ---------\n",
      "absl-py                 0.10.0\n",
      "aiohttp                 3.8.1\n",
      "aiosignal               1.2.0\n",
      "appnope                 0.1.2\n",
      "argon2-cffi             21.3.0\n",
      "argon2-cffi-bindings    21.2.0\n",
      "astunparse              1.6.3\n",
      "async-timeout           4.0.1\n",
      "attrs                   21.2.0\n",
      "backcall                0.2.0\n",
      "bleach                  4.1.0\n",
      "blinker                 1.4\n",
      "brotlipy                0.7.0\n",
      "cached-property         1.5.2\n",
      "cachetools              4.2.4\n",
      "certifi                 2021.10.8\n",
      "cffi                    1.15.0\n",
      "charset-normalizer      2.0.9\n",
      "click                   8.0.3\n",
      "cryptography            36.0.0\n",
      "dataclasses             0.8\n",
      "datasets                2.1.0\n",
      "debugpy                 1.5.1\n",
      "decorator               5.1.0\n",
      "defusedxml              0.7.1\n",
      "dill                    0.3.4\n",
      "entrypoints             0.3\n",
      "filelock                3.6.0\n",
      "flatbuffers             2.0\n",
      "frozenlist              1.2.0\n",
      "fsspec                  2022.3.0\n",
      "gast                    0.4.0\n",
      "google-auth             1.35.0\n",
      "google-auth-oauthlib    0.4.6\n",
      "google-pasta            0.2.0\n",
      "grpcio                  1.42.0\n",
      "h5py                    3.1.0\n",
      "huggingface-hub         0.5.1\n",
      "idna                    3.1\n",
      "importlib-metadata      4.8.2\n",
      "ipykernel               6.6.0\n",
      "ipython                 7.30.1\n",
      "ipython-genutils        0.2.0\n",
      "jedi                    0.18.1\n",
      "Jinja2                  3.0.3\n",
      "joblib                  1.1.0\n",
      "jsonschema              4.2.1\n",
      "jupyter-client          7.1.0\n",
      "jupyter-core            4.9.1\n",
      "jupyterlab-pygments     0.1.2\n",
      "keras                   2.7.0\n",
      "Keras-Preprocessing     1.1.2\n",
      "libclang                12.0.0\n",
      "Markdown                3.3.6\n",
      "MarkupSafe              2.0.1\n",
      "matplotlib-inline       0.1.3\n",
      "mistune                 0.8.4\n",
      "multidict               5.2.0\n",
      "multiprocess            0.70.12.2\n",
      "nbclient                0.5.9\n",
      "nbconvert               6.3.0\n",
      "nbformat                5.1.3\n",
      "nest-asyncio            1.5.4\n",
      "notebook                6.4.6\n",
      "numpy                   1.22.3\n",
      "oauthlib                3.1.1\n",
      "opt-einsum              3.3.0\n",
      "packaging               21.3\n",
      "pandas                  1.4.2\n",
      "pandocfilters           1.5.0\n",
      "parso                   0.8.3\n",
      "pexpect                 4.8.0\n",
      "pickleshare             0.7.5\n",
      "pip                     21.3.1\n",
      "prometheus-client       0.12.0\n",
      "prompt-toolkit          3.0.24\n",
      "protobuf                3.19.1\n",
      "ptyprocess              0.7.0\n",
      "pyarrow                 7.0.0\n",
      "pyasn1                  0.4.8\n",
      "pyasn1-modules          0.2.7\n",
      "pycparser               2.21\n",
      "Pygments                2.10.0\n",
      "PyJWT                   2.3.0\n",
      "pyOpenSSL               21.0.0\n",
      "pyparsing               3.0.6\n",
      "pyrsistent              0.18.0\n",
      "PySocks                 1.7.1\n",
      "python-dateutil         2.8.2\n",
      "pytz                    2022.1\n",
      "pyu2f                   0.1.5\n",
      "PyYAML                  6.0\n",
      "pyzmq                   22.3.0\n",
      "regex                   2022.4.24\n",
      "requests                2.26.0\n",
      "requests-oauthlib       1.3.0\n",
      "responses               0.18.0\n",
      "rsa                     4.8\n",
      "sacremoses              0.0.49\n",
      "scipy                   1.7.3\n",
      "Send2Trash              1.8.0\n",
      "sentencepiece           0.1.96\n",
      "setuptools              59.4.0\n",
      "six                     1.15.0\n",
      "tensorboard             2.6.0\n",
      "tensorboard-data-server 0.6.0\n",
      "tensorboard-plugin-wit  1.8.0\n",
      "tensorflow-estimator    2.7.0\n",
      "tensorflow-macos        2.7.0\n",
      "tensorflow-metal        0.3.0\n",
      "termcolor               1.1.0\n",
      "terminado               0.12.1\n",
      "testpath                0.5.0\n",
      "tokenizers              0.12.1\n",
      "tornado                 6.1\n",
      "tqdm                    4.64.0\n",
      "traitlets               5.1.1\n",
      "transformers            4.18.0\n",
      "typing-extensions       3.7.4.3\n",
      "urllib3                 1.26.7\n",
      "wcwidth                 0.2.5\n",
      "webencodings            0.5.1\n",
      "Werkzeug                2.0.1\n",
      "wheel                   0.35.1\n",
      "wrapt                   1.12.1\n",
      "xxhash                  3.0.0\n",
      "yarl                    1.7.2\n",
      "zipp                    3.6.0\n"
     ]
    }
   ],
   "source": [
    "!pip list"
   ]
  },
  {
   "cell_type": "code",
   "execution_count": 1,
   "metadata": {},
   "outputs": [
    {
     "data": {
      "text/plain": [
       "'2.7.0'"
      ]
     },
     "execution_count": 1,
     "metadata": {},
     "output_type": "execute_result"
    }
   ],
   "source": [
    "import tensorflow as tf\n",
    "tf.__version__"
   ]
  },
  {
   "cell_type": "code",
   "execution_count": 2,
   "metadata": {},
   "outputs": [
    {
     "data": {
      "text/plain": [
       "[PhysicalDevice(name='/physical_device:CPU:0', device_type='CPU'),\n",
       " PhysicalDevice(name='/physical_device:GPU:0', device_type='GPU')]"
      ]
     },
     "execution_count": 2,
     "metadata": {},
     "output_type": "execute_result"
    }
   ],
   "source": [
    "tf.config.list_physical_devices()"
   ]
  },
  {
   "cell_type": "code",
   "execution_count": 3,
   "metadata": {},
   "outputs": [],
   "source": [
    "import pandas as pd"
   ]
  },
  {
   "cell_type": "code",
   "execution_count": 4,
   "metadata": {},
   "outputs": [
    {
     "data": {
      "text/html": [
       "<div>\n",
       "<style scoped>\n",
       "    .dataframe tbody tr th:only-of-type {\n",
       "        vertical-align: middle;\n",
       "    }\n",
       "\n",
       "    .dataframe tbody tr th {\n",
       "        vertical-align: top;\n",
       "    }\n",
       "\n",
       "    .dataframe thead th {\n",
       "        text-align: right;\n",
       "    }\n",
       "</style>\n",
       "<table border=\"1\" class=\"dataframe\">\n",
       "  <thead>\n",
       "    <tr style=\"text-align: right;\">\n",
       "      <th></th>\n",
       "      <th>in</th>\n",
       "      <th>expected</th>\n",
       "    </tr>\n",
       "  </thead>\n",
       "  <tbody>\n",
       "    <tr>\n",
       "      <th>0</th>\n",
       "      <td>PCCW's chief operating officer, Mike Butcher, ...</td>\n",
       "      <td>Current Chief Operating Officer Mike Butcher a...</td>\n",
       "    </tr>\n",
       "    <tr>\n",
       "      <th>1</th>\n",
       "      <td>The world's two largest automakers said their ...</td>\n",
       "      <td>Domestic sales at both GM and No. 2 Ford Motor...</td>\n",
       "    </tr>\n",
       "    <tr>\n",
       "      <th>2</th>\n",
       "      <td>According to the federal Centers for Disease C...</td>\n",
       "      <td>The Centers for Disease Control and Prevention...</td>\n",
       "    </tr>\n",
       "    <tr>\n",
       "      <th>3</th>\n",
       "      <td>A tropical storm rapidly developed in the Gulf...</td>\n",
       "      <td>A tropical storm rapidly developed in the Gulf...</td>\n",
       "    </tr>\n",
       "    <tr>\n",
       "      <th>4</th>\n",
       "      <td>The company didn't detail the costs of the rep...</td>\n",
       "      <td>But company officials expect the costs of the ...</td>\n",
       "    </tr>\n",
       "    <tr>\n",
       "      <th>...</th>\n",
       "      <td>...</td>\n",
       "      <td>...</td>\n",
       "    </tr>\n",
       "    <tr>\n",
       "      <th>5172</th>\n",
       "      <td>Twice Sparrow sold the island twice to Thomas ...</td>\n",
       "      <td>Sparrow twice sold the island to Thomas Polloc...</td>\n",
       "    </tr>\n",
       "    <tr>\n",
       "      <th>5173</th>\n",
       "      <td>The name in Tupi means `` insensitive stone ''...</td>\n",
       "      <td>The name in Tupi means '' hard stone `` , '' i...</td>\n",
       "    </tr>\n",
       "    <tr>\n",
       "      <th>5174</th>\n",
       "      <td>The company has branches in Tokyo , based in t...</td>\n",
       "      <td>The company has branches in Tokyo based in Sai...</td>\n",
       "    </tr>\n",
       "    <tr>\n",
       "      <th>5175</th>\n",
       "      <td>The modern coat of arms of Bavaria was designe...</td>\n",
       "      <td>The modern coat of arms of Bavaria was designe...</td>\n",
       "    </tr>\n",
       "    <tr>\n",
       "      <th>5176</th>\n",
       "      <td>It is located near Point Pleasant Borough , a ...</td>\n",
       "      <td>It is near Point Pleasant borough , a municipa...</td>\n",
       "    </tr>\n",
       "  </tbody>\n",
       "</table>\n",
       "<p>5177 rows × 2 columns</p>\n",
       "</div>"
      ],
      "text/plain": [
       "                                                     in  \\\n",
       "0     PCCW's chief operating officer, Mike Butcher, ...   \n",
       "1     The world's two largest automakers said their ...   \n",
       "2     According to the federal Centers for Disease C...   \n",
       "3     A tropical storm rapidly developed in the Gulf...   \n",
       "4     The company didn't detail the costs of the rep...   \n",
       "...                                                 ...   \n",
       "5172  Twice Sparrow sold the island twice to Thomas ...   \n",
       "5173  The name in Tupi means `` insensitive stone ''...   \n",
       "5174  The company has branches in Tokyo , based in t...   \n",
       "5175  The modern coat of arms of Bavaria was designe...   \n",
       "5176  It is located near Point Pleasant Borough , a ...   \n",
       "\n",
       "                                               expected  \n",
       "0     Current Chief Operating Officer Mike Butcher a...  \n",
       "1     Domestic sales at both GM and No. 2 Ford Motor...  \n",
       "2     The Centers for Disease Control and Prevention...  \n",
       "3     A tropical storm rapidly developed in the Gulf...  \n",
       "4     But company officials expect the costs of the ...  \n",
       "...                                                 ...  \n",
       "5172  Sparrow twice sold the island to Thomas Polloc...  \n",
       "5173  The name in Tupi means '' hard stone `` , '' i...  \n",
       "5174  The company has branches in Tokyo based in Sai...  \n",
       "5175  The modern coat of arms of Bavaria was designe...  \n",
       "5176  It is near Point Pleasant borough , a municipa...  \n",
       "\n",
       "[5177 rows x 2 columns]"
      ]
     },
     "execution_count": 4,
     "metadata": {},
     "output_type": "execute_result"
    }
   ],
   "source": [
    "df_test = pd.read_csv('data/COMBINED/test.tsv', sep = '\\t', names=['in', 'expected'])\n",
    "# df_test['in'] = 'paraphrase: ' + df_test['in']\n",
    "df_test"
   ]
  },
  {
   "cell_type": "code",
   "execution_count": 5,
   "metadata": {},
   "outputs": [
    {
     "data": {
      "text/html": [
       "<div>\n",
       "<style scoped>\n",
       "    .dataframe tbody tr th:only-of-type {\n",
       "        vertical-align: middle;\n",
       "    }\n",
       "\n",
       "    .dataframe tbody tr th {\n",
       "        vertical-align: top;\n",
       "    }\n",
       "\n",
       "    .dataframe thead th {\n",
       "        text-align: right;\n",
       "    }\n",
       "</style>\n",
       "<table border=\"1\" class=\"dataframe\">\n",
       "  <thead>\n",
       "    <tr style=\"text-align: right;\">\n",
       "      <th></th>\n",
       "      <th>in</th>\n",
       "      <th>expected</th>\n",
       "    </tr>\n",
       "  </thead>\n",
       "  <tbody>\n",
       "    <tr>\n",
       "      <th>0</th>\n",
       "      <td>Amrozi accused his brother, whom he called \"th...</td>\n",
       "      <td>Referring to him as only \"the witness\", Amrozi...</td>\n",
       "    </tr>\n",
       "    <tr>\n",
       "      <th>1</th>\n",
       "      <td>Referring to him as only \"the witness\", Amrozi...</td>\n",
       "      <td>Amrozi accused his brother, whom he called \"th...</td>\n",
       "    </tr>\n",
       "    <tr>\n",
       "      <th>2</th>\n",
       "      <td>Yucaipa owned Dominick's before selling the ch...</td>\n",
       "      <td>Yucaipa bought Dominick's in 1995 for $693 mil...</td>\n",
       "    </tr>\n",
       "    <tr>\n",
       "      <th>3</th>\n",
       "      <td>Yucaipa bought Dominick's in 1995 for $693 mil...</td>\n",
       "      <td>Yucaipa owned Dominick's before selling the ch...</td>\n",
       "    </tr>\n",
       "    <tr>\n",
       "      <th>4</th>\n",
       "      <td>They had published an advertisement on the Int...</td>\n",
       "      <td>On June 10, the ship's owners had published an...</td>\n",
       "    </tr>\n",
       "    <tr>\n",
       "      <th>...</th>\n",
       "      <td>...</td>\n",
       "      <td>...</td>\n",
       "    </tr>\n",
       "    <tr>\n",
       "      <th>58613</th>\n",
       "      <td>Tommy Connolly , who plays Rory Jennings , pla...</td>\n",
       "      <td>Tommy Connolly , who plays Rory Jennings , pla...</td>\n",
       "    </tr>\n",
       "    <tr>\n",
       "      <th>58614</th>\n",
       "      <td>Monroe Meadows , in Yosemite valley near Brida...</td>\n",
       "      <td>Monroe Meadows , in Yosemite Valley near Brida...</td>\n",
       "    </tr>\n",
       "    <tr>\n",
       "      <th>58615</th>\n",
       "      <td>Monroe Meadows , in Yosemite Valley near Brida...</td>\n",
       "      <td>Monroe Meadows , in Yosemite valley near Brida...</td>\n",
       "    </tr>\n",
       "    <tr>\n",
       "      <th>58616</th>\n",
       "      <td>In 2014 the site launched iOS and Android appl...</td>\n",
       "      <td>In 2014 launched the site iOS and Android - ap...</td>\n",
       "    </tr>\n",
       "    <tr>\n",
       "      <th>58617</th>\n",
       "      <td>In 2014 launched the site iOS and Android - ap...</td>\n",
       "      <td>In 2014 the site launched iOS and Android appl...</td>\n",
       "    </tr>\n",
       "  </tbody>\n",
       "</table>\n",
       "<p>58618 rows × 2 columns</p>\n",
       "</div>"
      ],
      "text/plain": [
       "                                                      in  \\\n",
       "0      Amrozi accused his brother, whom he called \"th...   \n",
       "1      Referring to him as only \"the witness\", Amrozi...   \n",
       "2      Yucaipa owned Dominick's before selling the ch...   \n",
       "3      Yucaipa bought Dominick's in 1995 for $693 mil...   \n",
       "4      They had published an advertisement on the Int...   \n",
       "...                                                  ...   \n",
       "58613  Tommy Connolly , who plays Rory Jennings , pla...   \n",
       "58614  Monroe Meadows , in Yosemite valley near Brida...   \n",
       "58615  Monroe Meadows , in Yosemite Valley near Brida...   \n",
       "58616  In 2014 the site launched iOS and Android appl...   \n",
       "58617  In 2014 launched the site iOS and Android - ap...   \n",
       "\n",
       "                                                expected  \n",
       "0      Referring to him as only \"the witness\", Amrozi...  \n",
       "1      Amrozi accused his brother, whom he called \"th...  \n",
       "2      Yucaipa bought Dominick's in 1995 for $693 mil...  \n",
       "3      Yucaipa owned Dominick's before selling the ch...  \n",
       "4      On June 10, the ship's owners had published an...  \n",
       "...                                                  ...  \n",
       "58613  Tommy Connolly , who plays Rory Jennings , pla...  \n",
       "58614  Monroe Meadows , in Yosemite Valley near Brida...  \n",
       "58615  Monroe Meadows , in Yosemite valley near Brida...  \n",
       "58616  In 2014 launched the site iOS and Android - ap...  \n",
       "58617  In 2014 the site launched iOS and Android appl...  \n",
       "\n",
       "[58618 rows x 2 columns]"
      ]
     },
     "execution_count": 5,
     "metadata": {},
     "output_type": "execute_result"
    }
   ],
   "source": [
    "df_train = pd.read_csv('data/COMBINED/train.tsv', sep = '\\t', names=['in', 'expected'])\n",
    "# df_train['in'] = 'paraphrase: ' + df_train['in']\n",
    "df_train"
   ]
  },
  {
   "cell_type": "code",
   "execution_count": 27,
   "metadata": {},
   "outputs": [],
   "source": [
    "from datasets import Dataset"
   ]
  },
  {
   "cell_type": "code",
   "execution_count": 7,
   "metadata": {},
   "outputs": [],
   "source": [
    "dataset_test = Dataset.from_pandas(df_test)\n",
    "dataset_train = Dataset.from_pandas(df_train)"
   ]
  },
  {
   "cell_type": "code",
   "execution_count": 8,
   "metadata": {},
   "outputs": [
    {
     "data": {
      "text/plain": [
       "Dataset({\n",
       "    features: ['in', 'expected'],\n",
       "    num_rows: 5177\n",
       "})"
      ]
     },
     "execution_count": 8,
     "metadata": {},
     "output_type": "execute_result"
    }
   ],
   "source": [
    "dataset_test"
   ]
  },
  {
   "cell_type": "code",
   "execution_count": 9,
   "metadata": {},
   "outputs": [
    {
     "data": {
      "text/plain": [
       "Dataset({\n",
       "    features: ['in', 'expected'],\n",
       "    num_rows: 58618\n",
       "})"
      ]
     },
     "execution_count": 9,
     "metadata": {},
     "output_type": "execute_result"
    }
   ],
   "source": [
    "dataset_train"
   ]
  },
  {
   "cell_type": "code",
   "execution_count": 9,
   "metadata": {},
   "outputs": [
    {
     "name": "stderr",
     "output_type": "stream",
     "text": [
      "/opt/homebrew/Caskroom/miniforge/base/envs/dlp_tf/lib/python3.9/site-packages/tqdm/auto.py:22: TqdmWarning: IProgress not found. Please update jupyter and ipywidgets. See https://ipywidgets.readthedocs.io/en/stable/user_install.html\n",
      "  from .autonotebook import tqdm as notebook_tqdm\n"
     ]
    }
   ],
   "source": [
    "from transformers import AutoTokenizer"
   ]
  },
  {
   "cell_type": "code",
   "execution_count": 10,
   "metadata": {},
   "outputs": [],
   "source": [
    "init_weights = 't5-small'"
   ]
  },
  {
   "cell_type": "code",
   "execution_count": 11,
   "metadata": {},
   "outputs": [],
   "source": [
    "tokenizer = AutoTokenizer.from_pretrained(init_weights)"
   ]
  },
  {
   "cell_type": "code",
   "execution_count": 13,
   "metadata": {},
   "outputs": [
    {
     "data": {
      "text/plain": [
       "{'input_ids': [37, 296, 31, 7, 192, 2015, 1510, 8910, 243, 70, 412, 5, 134, 5, 1085, 14833, 72, 145, 15439, 336, 847, 38, 3, 9, 1480, 1248, 1085, 2515, 35, 4164, 2953, 72, 13, 46, 681, 223, 8058, 145, 1644, 5, 1, 0, 0, 0, 0, 0, 0, 0, 0, 0, 0, 0, 0, 0, 0, 0, 0, 0, 0, 0, 0, 0, 0, 0, 0, 0, 0, 0, 0, 0, 0, 0, 0, 0, 0, 0, 0, 0, 0, 0, 0, 0, 0, 0, 0, 0, 0, 0, 0, 0, 0, 0, 0, 0, 0, 0, 0, 0, 0, 0, 0, 0, 0, 0, 0, 0, 0, 0, 0, 0, 0, 0, 0, 0, 0, 0, 0, 0, 0, 0, 0, 0, 0, 0, 0, 0, 0, 0, 0, 0, 0, 0, 0, 0, 0, 0, 0, 0, 0, 0, 0, 0, 0, 0, 0, 0, 0, 0, 0, 0, 0, 0, 0, 0, 0, 0, 0, 0, 0, 0, 0, 0, 0, 0, 0, 0, 0, 0, 0, 0, 0, 0, 0, 0, 0, 0, 0, 0, 0, 0, 0, 0, 0, 0, 0, 0, 0, 0, 0, 0, 0, 0, 0, 0, 0, 0, 0, 0, 0, 0, 0, 0, 0, 0, 0, 0, 0, 0, 0, 0, 0, 0, 0, 0, 0, 0, 0, 0, 0, 0, 0, 0, 0, 0, 0, 0, 0, 0, 0, 0, 0, 0, 0, 0, 0, 0, 0, 0, 0, 0, 0, 0, 0, 0, 0, 0, 0, 0, 0, 0, 0, 0, 0, 0, 0, 0, 0, 0, 0, 0, 0, 0, 0, 0, 0, 0, 0, 0, 0, 0, 0, 0, 0, 0, 0, 0, 0, 0, 0, 0, 0, 0, 0, 0, 0, 0, 0, 0, 0, 0, 0, 0, 0, 0, 0, 0, 0, 0, 0, 0, 0, 0, 0, 0, 0, 0, 0, 0, 0, 0, 0, 0, 0, 0, 0, 0, 0, 0, 0, 0, 0, 0, 0, 0, 0, 0, 0, 0, 0, 0, 0, 0, 0, 0, 0, 0, 0, 0, 0, 0, 0, 0, 0, 0, 0, 0, 0, 0, 0, 0, 0, 0, 0, 0, 0, 0, 0, 0, 0, 0, 0, 0, 0, 0, 0, 0, 0, 0, 0, 0, 0, 0, 0, 0, 0, 0, 0, 0, 0, 0, 0, 0, 0, 0, 0, 0, 0, 0, 0, 0, 0, 0, 0, 0, 0, 0, 0, 0, 0, 0, 0, 0, 0, 0, 0, 0, 0, 0, 0, 0, 0, 0, 0, 0, 0, 0, 0, 0, 0, 0, 0, 0, 0, 0, 0, 0, 0, 0, 0, 0, 0, 0, 0, 0, 0, 0, 0, 0, 0, 0, 0, 0, 0, 0, 0, 0, 0, 0, 0, 0, 0, 0, 0, 0, 0, 0, 0, 0, 0, 0, 0, 0, 0, 0, 0, 0, 0, 0, 0, 0, 0, 0, 0, 0, 0, 0, 0, 0, 0, 0, 0, 0, 0, 0, 0, 0, 0, 0, 0, 0, 0, 0, 0, 0, 0, 0, 0, 0, 0, 0, 0, 0, 0, 0, 0, 0, 0, 0, 0, 0, 0, 0], 'attention_mask': [1, 1, 1, 1, 1, 1, 1, 1, 1, 1, 1, 1, 1, 1, 1, 1, 1, 1, 1, 1, 1, 1, 1, 1, 1, 1, 1, 1, 1, 1, 1, 1, 1, 1, 1, 1, 1, 1, 1, 1, 1, 0, 0, 0, 0, 0, 0, 0, 0, 0, 0, 0, 0, 0, 0, 0, 0, 0, 0, 0, 0, 0, 0, 0, 0, 0, 0, 0, 0, 0, 0, 0, 0, 0, 0, 0, 0, 0, 0, 0, 0, 0, 0, 0, 0, 0, 0, 0, 0, 0, 0, 0, 0, 0, 0, 0, 0, 0, 0, 0, 0, 0, 0, 0, 0, 0, 0, 0, 0, 0, 0, 0, 0, 0, 0, 0, 0, 0, 0, 0, 0, 0, 0, 0, 0, 0, 0, 0, 0, 0, 0, 0, 0, 0, 0, 0, 0, 0, 0, 0, 0, 0, 0, 0, 0, 0, 0, 0, 0, 0, 0, 0, 0, 0, 0, 0, 0, 0, 0, 0, 0, 0, 0, 0, 0, 0, 0, 0, 0, 0, 0, 0, 0, 0, 0, 0, 0, 0, 0, 0, 0, 0, 0, 0, 0, 0, 0, 0, 0, 0, 0, 0, 0, 0, 0, 0, 0, 0, 0, 0, 0, 0, 0, 0, 0, 0, 0, 0, 0, 0, 0, 0, 0, 0, 0, 0, 0, 0, 0, 0, 0, 0, 0, 0, 0, 0, 0, 0, 0, 0, 0, 0, 0, 0, 0, 0, 0, 0, 0, 0, 0, 0, 0, 0, 0, 0, 0, 0, 0, 0, 0, 0, 0, 0, 0, 0, 0, 0, 0, 0, 0, 0, 0, 0, 0, 0, 0, 0, 0, 0, 0, 0, 0, 0, 0, 0, 0, 0, 0, 0, 0, 0, 0, 0, 0, 0, 0, 0, 0, 0, 0, 0, 0, 0, 0, 0, 0, 0, 0, 0, 0, 0, 0, 0, 0, 0, 0, 0, 0, 0, 0, 0, 0, 0, 0, 0, 0, 0, 0, 0, 0, 0, 0, 0, 0, 0, 0, 0, 0, 0, 0, 0, 0, 0, 0, 0, 0, 0, 0, 0, 0, 0, 0, 0, 0, 0, 0, 0, 0, 0, 0, 0, 0, 0, 0, 0, 0, 0, 0, 0, 0, 0, 0, 0, 0, 0, 0, 0, 0, 0, 0, 0, 0, 0, 0, 0, 0, 0, 0, 0, 0, 0, 0, 0, 0, 0, 0, 0, 0, 0, 0, 0, 0, 0, 0, 0, 0, 0, 0, 0, 0, 0, 0, 0, 0, 0, 0, 0, 0, 0, 0, 0, 0, 0, 0, 0, 0, 0, 0, 0, 0, 0, 0, 0, 0, 0, 0, 0, 0, 0, 0, 0, 0, 0, 0, 0, 0, 0, 0, 0, 0, 0, 0, 0, 0, 0, 0, 0, 0, 0, 0, 0, 0, 0, 0, 0, 0, 0, 0, 0, 0, 0, 0, 0, 0, 0, 0, 0, 0, 0, 0, 0, 0, 0, 0, 0, 0, 0, 0, 0, 0, 0, 0, 0, 0, 0, 0, 0, 0, 0, 0, 0, 0, 0, 0, 0, 0, 0, 0, 0, 0, 0, 0, 0, 0, 0, 0, 0, 0, 0, 0, 0]}"
      ]
     },
     "execution_count": 13,
     "metadata": {},
     "output_type": "execute_result"
    }
   ],
   "source": [
    "tokenizer(dataset_test[\"in\"][1], padding=\"max_length\", truncation=True)"
   ]
  },
  {
   "cell_type": "code",
   "execution_count": 28,
   "metadata": {},
   "outputs": [],
   "source": [
    "def preprocess_function(examples):\n",
    "    prefix = 'paraphrase: '\n",
    "    inputs = [prefix + doc for doc in examples[\"in\"]]\n",
    "    model_inputs = tokenizer(inputs, max_length=256, truncation=True)\n",
    "\n",
    "    with tokenizer.as_target_tokenizer():\n",
    "        labels = tokenizer(examples[\"expected\"], max_length=256, truncation=True)\n",
    "\n",
    "    model_inputs[\"labels\"] = labels[\"input_ids\"]\n",
    "    return model_inputs\n"
   ]
  },
  {
   "cell_type": "code",
   "execution_count": 15,
   "metadata": {},
   "outputs": [
    {
     "name": "stdout",
     "output_type": "stream",
     "text": [
      "huggingface/tokenizers: The current process just got forked, after parallelism has already been used. Disabling parallelism to avoid deadlocks...\n",
      "To disable this warning, you can either:\n",
      "\t- Avoid using `tokenizers` before the fork if possible\n",
      "\t- Explicitly set the environment variable TOKENIZERS_PARALLELISM=(true | false)\n"
     ]
    },
    {
     "name": "stderr",
     "output_type": "stream",
     "text": [
      "100%|██████████| 6/6 [00:00<00:00, 23.00ba/s]\n",
      "100%|██████████| 59/59 [00:02<00:00, 24.60ba/s]\n"
     ]
    }
   ],
   "source": [
    "tokenized_test = dataset_test.map(preprocess_function, batched=True)\n",
    "tokenized_train = dataset_train.map(preprocess_function, batched=True)\n"
   ]
  },
  {
   "cell_type": "code",
   "execution_count": 16,
   "metadata": {},
   "outputs": [
    {
     "data": {
      "text/plain": [
       "Dataset({\n",
       "    features: ['in', 'expected', 'input_ids', 'attention_mask', 'labels'],\n",
       "    num_rows: 5177\n",
       "})"
      ]
     },
     "execution_count": 16,
     "metadata": {},
     "output_type": "execute_result"
    }
   ],
   "source": [
    "tokenized_test"
   ]
  },
  {
   "cell_type": "code",
   "execution_count": 17,
   "metadata": {},
   "outputs": [
    {
     "data": {
      "text/plain": [
       "Dataset({\n",
       "    features: ['in', 'expected', 'input_ids', 'attention_mask', 'labels'],\n",
       "    num_rows: 58618\n",
       "})"
      ]
     },
     "execution_count": 17,
     "metadata": {},
     "output_type": "execute_result"
    }
   ],
   "source": [
    "tokenized_train"
   ]
  },
  {
   "cell_type": "code",
   "execution_count": 18,
   "metadata": {},
   "outputs": [],
   "source": [
    "tokenized_train_small = tokenized_train.shuffle(seed=42).select(range(5000))\n",
    "tokenized_test_small = tokenized_test.shuffle(seed=42).select(range(500))"
   ]
  },
  {
   "cell_type": "code",
   "execution_count": 16,
   "metadata": {},
   "outputs": [],
   "source": [
    "from transformers import create_optimizer, AdamWeightDecay\n",
    "from transformers import TFAutoModelForSeq2SeqLM\n",
    "from transformers import DataCollatorForSeq2Seq"
   ]
  },
  {
   "cell_type": "code",
   "execution_count": 20,
   "metadata": {},
   "outputs": [
    {
     "name": "stdout",
     "output_type": "stream",
     "text": [
      "Metal device set to: Apple M1 Max\n",
      "\n",
      "systemMemory: 32.00 GB\n",
      "maxCacheSize: 10.67 GB\n",
      "\n"
     ]
    },
    {
     "name": "stderr",
     "output_type": "stream",
     "text": [
      "2022-04-26 22:13:21.757840: I tensorflow/core/common_runtime/pluggable_device/pluggable_device_factory.cc:305] Could not identify NUMA node of platform GPU ID 0, defaulting to 0. Your kernel may not have been built with NUMA support.\n",
      "2022-04-26 22:13:21.757973: I tensorflow/core/common_runtime/pluggable_device/pluggable_device_factory.cc:271] Created TensorFlow device (/job:localhost/replica:0/task:0/device:GPU:0 with 0 MB memory) -> physical PluggableDevice (device: 0, name: METAL, pci bus id: <undefined>)\n",
      "2022-04-26 22:13:21.768518: W tensorflow/python/util/util.cc:368] Sets are not currently considered sequences, but this may change in the future, so consider avoiding using them.\n",
      "All model checkpoint layers were used when initializing TFT5ForConditionalGeneration.\n",
      "\n",
      "All the layers of TFT5ForConditionalGeneration were initialized from the model checkpoint at t5-small.\n",
      "If your task is similar to the task the model of the checkpoint was trained on, you can already use TFT5ForConditionalGeneration for predictions without further training.\n"
     ]
    }
   ],
   "source": [
    "model = TFAutoModelForSeq2SeqLM.from_pretrained(init_weights)\n",
    "optimizer = AdamWeightDecay(learning_rate=2e-3, weight_decay_rate=0.01)\n",
    "data_collator = DataCollatorForSeq2Seq(tokenizer=tokenizer, model=model, return_tensors=\"tf\")"
   ]
  },
  {
   "cell_type": "code",
   "execution_count": 21,
   "metadata": {},
   "outputs": [],
   "source": [
    "tf_train_set = tokenized_train_small.to_tf_dataset(\n",
    "    columns=[\"attention_mask\", \"input_ids\", \"labels\"],\n",
    "    shuffle=True,\n",
    "    batch_size=64,\n",
    "    collate_fn=data_collator,\n",
    ")\n",
    "tf_test_set = tokenized_test_small.to_tf_dataset(\n",
    "    columns=[\"attention_mask\", \"input_ids\", \"labels\"],\n",
    "    shuffle=False,\n",
    "    batch_size=64,\n",
    "    collate_fn=data_collator,\n",
    ")"
   ]
  },
  {
   "cell_type": "code",
   "execution_count": 23,
   "metadata": {},
   "outputs": [
    {
     "name": "stderr",
     "output_type": "stream",
     "text": [
      "No loss specified in compile() - the model's internal loss computation will be used as the loss. Don't panic - this is a common way to train TensorFlow models in Transformers! To disable this behaviour, please pass a loss argument, or explicitly pass `loss=None` if you do not want your model to compute a loss.\n",
      "2022-04-26 22:13:41.808980: I tensorflow/core/grappler/optimizers/custom_graph_optimizer_registry.cc:112] Plugin optimizer for device_type GPU is enabled.\n"
     ]
    },
    {
     "name": "stdout",
     "output_type": "stream",
     "text": [
      "78/78 [==============================] - ETA: 0s - loss: 0.8401"
     ]
    },
    {
     "name": "stderr",
     "output_type": "stream",
     "text": [
      "2022-04-26 22:17:43.758943: I tensorflow/core/grappler/optimizers/custom_graph_optimizer_registry.cc:112] Plugin optimizer for device_type GPU is enabled.\n"
     ]
    },
    {
     "name": "stdout",
     "output_type": "stream",
     "text": [
      "78/78 [==============================] - 259s 3s/step - loss: 0.8401 - val_loss: 1.0867\n"
     ]
    },
    {
     "data": {
      "text/plain": [
       "<keras.callbacks.History at 0x306ca72e0>"
      ]
     },
     "execution_count": 23,
     "metadata": {},
     "output_type": "execute_result"
    }
   ],
   "source": [
    "model.compile(optimizer=optimizer)\n",
    "model.fit(x=tf_train_set, validation_data=tf_test_set, epochs=1)"
   ]
  },
  {
   "cell_type": "code",
   "execution_count": 24,
   "metadata": {},
   "outputs": [],
   "source": [
    "model.save_pretrained('checkpoints/t5saved')"
   ]
  },
  {
   "cell_type": "code",
   "execution_count": 40,
   "metadata": {},
   "outputs": [
    {
     "name": "stderr",
     "output_type": "stream",
     "text": [
      "All model checkpoint layers were used when initializing TFT5ForConditionalGeneration.\n",
      "\n",
      "All the layers of TFT5ForConditionalGeneration were initialized from the model checkpoint at checkpoints/t5saved.\n",
      "If your task is similar to the task the model of the checkpoint was trained on, you can already use TFT5ForConditionalGeneration for predictions without further training.\n"
     ]
    }
   ],
   "source": [
    "model = TFAutoModelForSeq2SeqLM.from_pretrained('checkpoints/t5saved')\n",
    "data_collator = DataCollatorForSeq2Seq(tokenizer=tokenizer, model=model, return_tensors=\"tf\")\n",
    "\n"
   ]
  },
  {
   "cell_type": "code",
   "execution_count": 42,
   "metadata": {},
   "outputs": [
    {
     "name": "stdout",
     "output_type": "stream",
     "text": [
      "Input:  PCCW's chief operating officer, Mike Butcher, and Alex Arena, the chief financial officer, will report directly to Mr So.\n",
      "Prediction:  Mike Butcher, chief operating officer of PCCW, and Alex Arena, chief financial officer,\n",
      "Expected:  Current Chief Operating Officer Mike Butcher and Group Chief Financial Officer Alex Arena will report to So.\n",
      "\n",
      "Input:  The world's two largest automakers said their U.S. sales declined more than predicted last month as a late summer sales frenzy caused more of an industry backlash than expected.\n",
      "Prediction:  The world's two largest automakers said their U.S. sales declined more than predicted\n",
      "Expected:  Domestic sales at both GM and No. 2 Ford Motor Co. declined more than predicted as a late summer sales frenzy prompted a larger-than-expected industry backlash.\n",
      "\n",
      "Input:  According to the federal Centers for Disease Control and Prevention (news - web sites), there were 19 reported cases of measles in the United States in 2002.\n",
      "Prediction:  In 2002, 19 reported measles were reported in the United States.\n",
      "Expected:  The Centers for Disease Control and Prevention said there were 19 reported cases of measles in the United States in 2002.\n",
      "\n",
      "Input:  A tropical storm rapidly developed in the Gulf of Mexico Sunday and was expected to hit somewhere along the Texas or Louisiana coasts by Monday night.\n",
      "Prediction:  A tropical storm rapidly developed in the Gulf of Mexico Sunday and was expected to hit somewhere along the\n",
      "Expected:  A tropical storm rapidly developed in the Gulf of Mexico on Sunday and could have hurricane-force winds when it hits land somewhere along the Louisiana coast Monday night.\n",
      "\n",
      "Input:  The company didn't detail the costs of the replacement and repairs.\n",
      "Prediction:  The company didn't detail the costs of the replacement and repairs.\n",
      "Expected:  But company officials expect the costs of the replacement work to run into the millions of dollars.\n",
      "\n"
     ]
    }
   ],
   "source": [
    "# simple test\n",
    "# topredict = df_test.head(5)\n",
    "# topredict = Dataset.from_pandas(topredict)\n",
    "# tokenized_predict = topredict.map(preprocess_function, batched=True)\n",
    "# tf_predict_set = tokenized_predict.to_tf_dataset(\n",
    "#     columns=[\"attention_mask\", \"input_ids\", \"labels\"],\n",
    "#     shuffle=False,\n",
    "#     batch_size=64,\n",
    "#     collate_fn=data_collator,\n",
    "# )\n",
    "for idx, row in df_test.head(5).iterrows():\n",
    "    print('Input: ', row['in'])\n",
    "    to_model = 'paraphrase: ' + row['in']\n",
    "\n",
    "    # sentence = 'paraphrase: We should go to the movies today because it is raining.'\n",
    "    input_ids = tokenizer(row['in'], return_tensors=\"tf\").input_ids\n",
    "    out = model.generate(input_ids)\n",
    "    result = tokenizer.decode(out[0], skip_special_tokens=True)\n",
    "    print('Prediction: ', result)\n",
    "    print('Expected: ', row['expected'])\n",
    "    print()"
   ]
  },
  {
   "cell_type": "code",
   "execution_count": 7,
   "metadata": {},
   "outputs": [
    {
     "data": {
      "text/html": [
       "<div>\n",
       "<style scoped>\n",
       "    .dataframe tbody tr th:only-of-type {\n",
       "        vertical-align: middle;\n",
       "    }\n",
       "\n",
       "    .dataframe tbody tr th {\n",
       "        vertical-align: top;\n",
       "    }\n",
       "\n",
       "    .dataframe thead th {\n",
       "        text-align: right;\n",
       "    }\n",
       "</style>\n",
       "<table border=\"1\" class=\"dataframe\">\n",
       "  <thead>\n",
       "    <tr style=\"text-align: right;\">\n",
       "      <th></th>\n",
       "      <th>in</th>\n",
       "      <th>expected</th>\n",
       "    </tr>\n",
       "  </thead>\n",
       "  <tbody>\n",
       "    <tr>\n",
       "      <th>0</th>\n",
       "      <td>PCCW's chief operating officer, Mike Butcher, ...</td>\n",
       "      <td>Current Chief Operating Officer Mike Butcher a...</td>\n",
       "    </tr>\n",
       "    <tr>\n",
       "      <th>1</th>\n",
       "      <td>The world's two largest automakers said their ...</td>\n",
       "      <td>Domestic sales at both GM and No. 2 Ford Motor...</td>\n",
       "    </tr>\n",
       "    <tr>\n",
       "      <th>2</th>\n",
       "      <td>According to the federal Centers for Disease C...</td>\n",
       "      <td>The Centers for Disease Control and Prevention...</td>\n",
       "    </tr>\n",
       "    <tr>\n",
       "      <th>3</th>\n",
       "      <td>A tropical storm rapidly developed in the Gulf...</td>\n",
       "      <td>A tropical storm rapidly developed in the Gulf...</td>\n",
       "    </tr>\n",
       "    <tr>\n",
       "      <th>4</th>\n",
       "      <td>The company didn't detail the costs of the rep...</td>\n",
       "      <td>But company officials expect the costs of the ...</td>\n",
       "    </tr>\n",
       "  </tbody>\n",
       "</table>\n",
       "</div>"
      ],
      "text/plain": [
       "                                                  in  \\\n",
       "0  PCCW's chief operating officer, Mike Butcher, ...   \n",
       "1  The world's two largest automakers said their ...   \n",
       "2  According to the federal Centers for Disease C...   \n",
       "3  A tropical storm rapidly developed in the Gulf...   \n",
       "4  The company didn't detail the costs of the rep...   \n",
       "\n",
       "                                            expected  \n",
       "0  Current Chief Operating Officer Mike Butcher a...  \n",
       "1  Domestic sales at both GM and No. 2 Ford Motor...  \n",
       "2  The Centers for Disease Control and Prevention...  \n",
       "3  A tropical storm rapidly developed in the Gulf...  \n",
       "4  But company officials expect the costs of the ...  "
      ]
     },
     "execution_count": 7,
     "metadata": {},
     "output_type": "execute_result"
    }
   ],
   "source": [
    "df_test.head(5)"
   ]
  },
  {
   "cell_type": "code",
   "execution_count": null,
   "metadata": {},
   "outputs": [],
   "source": []
  }
 ],
 "metadata": {
  "interpreter": {
   "hash": "5fd2a3bbac122b6bda66c5eb6960e0be835c588d574451ccadb034a440844e53"
  },
  "kernelspec": {
   "display_name": "Python 3.9.7 ('dlp_tf')",
   "language": "python",
   "name": "python3"
  },
  "language_info": {
   "codemirror_mode": {
    "name": "ipython",
    "version": 3
   },
   "file_extension": ".py",
   "mimetype": "text/x-python",
   "name": "python",
   "nbconvert_exporter": "python",
   "pygments_lexer": "ipython3",
   "version": "3.9.7"
  },
  "orig_nbformat": 4
 },
 "nbformat": 4,
 "nbformat_minor": 2
}
