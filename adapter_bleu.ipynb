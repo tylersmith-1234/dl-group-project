{
 "cells": [
  {
   "cell_type": "code",
   "execution_count": 1,
   "metadata": {},
   "outputs": [
    {
     "name": "stderr",
     "output_type": "stream",
     "text": [
      "[nltk_data] Downloading package punkt to /Users/tyler/nltk_data...\n",
      "[nltk_data]   Package punkt is already up-to-date!\n",
      "/Users/tyler/opt/anaconda3/envs/cs-7643/lib/python3.7/site-packages/tqdm/auto.py:22: TqdmWarning: IProgress not found. Please update jupyter and ipywidgets. See https://ipywidgets.readthedocs.io/en/stable/user_install.html\n",
      "  from .autonotebook import tqdm as notebook_tqdm\n"
     ]
    }
   ],
   "source": [
    "from nltk.translate import bleu\n",
    "from nltk.translate.bleu_score import corpus_bleu, sentence_bleu, SmoothingFunction\n",
    "from modelT5 import T5Model\n",
    "import os\n",
    "import argparse\n",
    "from transformers import T5Tokenizer, T5ForConditionalGeneration\n",
    "import pandas as pd\n",
    "import numpy as np\n",
    "from datasets import Dataset\n",
    "import tensorflow as tf\n",
    "from transformers import TFAutoModelForSeq2SeqLM, AutoTokenizer, DataCollatorForSeq2Seq\n",
    "from transformers import (\n",
    "    # AdamW, \n",
    "    T5Model, \n",
    "    T5ForConditionalGeneration, \n",
    "    T5AdapterModel, \n",
    "    T5Tokenizer, \n",
    "    get_linear_schedule_with_warmup,\n",
    "    TrainingArguments, \n",
    "    AdapterTrainer,\n",
    "    Trainer\n",
    ")\n",
    "import torch"
   ]
  },
  {
   "cell_type": "code",
   "execution_count": 2,
   "metadata": {},
   "outputs": [
    {
     "name": "stderr",
     "output_type": "stream",
     "text": [
      "Some weights of the model checkpoint at t5-small were not used when initializing T5AdapterModel: ['decoder.block.0.layer.1.EncDecAttention.relative_attention_bias.weight']\n",
      "- This IS expected if you are initializing T5AdapterModel from the checkpoint of a model trained on another task or with another architecture (e.g. initializing a BertForSequenceClassification model from a BertForPreTraining model).\n",
      "- This IS NOT expected if you are initializing T5AdapterModel from the checkpoint of a model that you expect to be exactly identical (initializing a BertForSequenceClassification model from a BertForSequenceClassification model).\n",
      "Some weights of T5AdapterModel were not initialized from the model checkpoint at t5-small and are newly initialized: ['encoder.embed_tokens.weight', 'decoder.embed_tokens.weight']\n",
      "You should probably TRAIN this model on a down-stream task to be able to use it for predictions and inference.\n"
     ]
    },
    {
     "name": "stdout",
     "output_type": "stream",
     "text": [
      "Stack[paraphrase] paraphrase\n"
     ]
    }
   ],
   "source": [
    "df_test = pd.read_csv('data/COMBINED/test.tsv', sep = '\\t', names=['in', 'expected'])\n",
    "df_test = df_test.sample(n=1500, replace=False, random_state=42, ignore_index=True)\n",
    "model = T5AdapterModel.from_pretrained(\"t5-small\")\n",
    "adapter_name = model.load_adapter(\"custom_adapters/houlsby-inv-sm\")\n",
    "model.set_active_adapters(adapter_name)\n",
    "tokenizer = T5Tokenizer.from_pretrained('t5-small')\n",
    "print(model.active_adapters, adapter_name)"
   ]
  },
  {
   "cell_type": "code",
   "execution_count": 3,
   "metadata": {},
   "outputs": [
    {
     "name": "stderr",
     "output_type": "stream",
     "text": [
      "2022-04-29 16:19:52.869572: I tensorflow/core/platform/cpu_feature_guard.cc:151] This TensorFlow binary is optimized with oneAPI Deep Neural Network Library (oneDNN) to use the following CPU instructions in performance-critical operations:  AVX2 FMA\n",
      "To enable them in other operations, rebuild TensorFlow with the appropriate compiler flags.\n"
     ]
    },
    {
     "data": {
      "text/html": [
       "<div>\n",
       "<style scoped>\n",
       "    .dataframe tbody tr th:only-of-type {\n",
       "        vertical-align: middle;\n",
       "    }\n",
       "\n",
       "    .dataframe tbody tr th {\n",
       "        vertical-align: top;\n",
       "    }\n",
       "\n",
       "    .dataframe thead th {\n",
       "        text-align: right;\n",
       "    }\n",
       "</style>\n",
       "<table border=\"1\" class=\"dataframe\">\n",
       "  <thead>\n",
       "    <tr style=\"text-align: right;\">\n",
       "      <th></th>\n",
       "      <th>in</th>\n",
       "      <th>expected</th>\n",
       "      <th>sentence_inputs</th>\n",
       "      <th>sentence_length</th>\n",
       "      <th>to_model</th>\n",
       "      <th>encoding</th>\n",
       "      <th>input_ids</th>\n",
       "      <th>attention_mask</th>\n",
       "    </tr>\n",
       "  </thead>\n",
       "  <tbody>\n",
       "    <tr>\n",
       "      <th>0</th>\n",
       "      <td>Lillian `` Lilly '' Truscott ( Oliver Oken ) i...</td>\n",
       "      <td>Lillian `` Lilly '' Truscott ( Oliver Oken ) i...</td>\n",
       "      <td>[Lillian, ``, Lilly, '', Truscott, (, Oliver, ...</td>\n",
       "      <td>27</td>\n",
       "      <td>paraphrase: Lillian `` Lilly '' Truscott ( Oli...</td>\n",
       "      <td>[input_ids, attention_mask]</td>\n",
       "      <td>((tf.Tensor(301, shape=(), dtype=int32), tf.Te...</td>\n",
       "      <td>((tf.Tensor(1, shape=(), dtype=int32), tf.Tens...</td>\n",
       "    </tr>\n",
       "    <tr>\n",
       "      <th>1</th>\n",
       "      <td>Alfred Matthew Hubbard introduced Aldous Huxle...</td>\n",
       "      <td>In 1955 , Alfred Matthew Hubbard introduced Al...</td>\n",
       "      <td>[Alfred, Matthew, Hubbard, introduced, Aldous,...</td>\n",
       "      <td>20</td>\n",
       "      <td>paraphrase: Alfred Matthew Hubbard introduced ...</td>\n",
       "      <td>[input_ids, attention_mask]</td>\n",
       "      <td>((tf.Tensor(19850, shape=(), dtype=int32), tf....</td>\n",
       "      <td>((tf.Tensor(1, shape=(), dtype=int32), tf.Tens...</td>\n",
       "    </tr>\n",
       "    <tr>\n",
       "      <th>2</th>\n",
       "      <td>There were several competing organisations on ...</td>\n",
       "      <td>During this period , there have been several c...</td>\n",
       "      <td>[There, were, several, competing, organisation...</td>\n",
       "      <td>17</td>\n",
       "      <td>paraphrase: There were several competing organ...</td>\n",
       "      <td>[input_ids, attention_mask]</td>\n",
       "      <td>((tf.Tensor(290, shape=(), dtype=int32), tf.Te...</td>\n",
       "      <td>((tf.Tensor(1, shape=(), dtype=int32), tf.Tens...</td>\n",
       "    </tr>\n",
       "    <tr>\n",
       "      <th>3</th>\n",
       "      <td>In the belief that she is Easwari Rao ( Kasthu...</td>\n",
       "      <td>Thinking that she is Kasthuri ( Easwari Rao ) ...</td>\n",
       "      <td>[In, the, belief, that, she, is, Easwari, Rao,...</td>\n",
       "      <td>23</td>\n",
       "      <td>paraphrase: In the belief that she is Easwari ...</td>\n",
       "      <td>[input_ids, attention_mask]</td>\n",
       "      <td>((tf.Tensor(86, shape=(), dtype=int32), tf.Ten...</td>\n",
       "      <td>((tf.Tensor(1, shape=(), dtype=int32), tf.Tens...</td>\n",
       "    </tr>\n",
       "    <tr>\n",
       "      <th>4</th>\n",
       "      <td>Tomasz Kafarski ( born January 13 , 1975 in Ko...</td>\n",
       "      <td>Tomasz Kafarski ( born January 13 , 1975 in Ko...</td>\n",
       "      <td>[Tomasz, Kafarski, (, born, January, 13, ,, 19...</td>\n",
       "      <td>21</td>\n",
       "      <td>paraphrase: Tomasz Kafarski ( born January 13 ...</td>\n",
       "      <td>[input_ids, attention_mask]</td>\n",
       "      <td>((tf.Tensor(3059, shape=(), dtype=int32), tf.T...</td>\n",
       "      <td>((tf.Tensor(1, shape=(), dtype=int32), tf.Tens...</td>\n",
       "    </tr>\n",
       "  </tbody>\n",
       "</table>\n",
       "</div>"
      ],
      "text/plain": [
       "                                                  in  \\\n",
       "0  Lillian `` Lilly '' Truscott ( Oliver Oken ) i...   \n",
       "1  Alfred Matthew Hubbard introduced Aldous Huxle...   \n",
       "2  There were several competing organisations on ...   \n",
       "3  In the belief that she is Easwari Rao ( Kasthu...   \n",
       "4  Tomasz Kafarski ( born January 13 , 1975 in Ko...   \n",
       "\n",
       "                                            expected  \\\n",
       "0  Lillian `` Lilly '' Truscott ( Oliver Oken ) i...   \n",
       "1  In 1955 , Alfred Matthew Hubbard introduced Al...   \n",
       "2  During this period , there have been several c...   \n",
       "3  Thinking that she is Kasthuri ( Easwari Rao ) ...   \n",
       "4  Tomasz Kafarski ( born January 13 , 1975 in Ko...   \n",
       "\n",
       "                                     sentence_inputs  sentence_length  \\\n",
       "0  [Lillian, ``, Lilly, '', Truscott, (, Oliver, ...               27   \n",
       "1  [Alfred, Matthew, Hubbard, introduced, Aldous,...               20   \n",
       "2  [There, were, several, competing, organisation...               17   \n",
       "3  [In, the, belief, that, she, is, Easwari, Rao,...               23   \n",
       "4  [Tomasz, Kafarski, (, born, January, 13, ,, 19...               21   \n",
       "\n",
       "                                            to_model  \\\n",
       "0  paraphrase: Lillian `` Lilly '' Truscott ( Oli...   \n",
       "1  paraphrase: Alfred Matthew Hubbard introduced ...   \n",
       "2  paraphrase: There were several competing organ...   \n",
       "3  paraphrase: In the belief that she is Easwari ...   \n",
       "4  paraphrase: Tomasz Kafarski ( born January 13 ...   \n",
       "\n",
       "                      encoding  \\\n",
       "0  [input_ids, attention_mask]   \n",
       "1  [input_ids, attention_mask]   \n",
       "2  [input_ids, attention_mask]   \n",
       "3  [input_ids, attention_mask]   \n",
       "4  [input_ids, attention_mask]   \n",
       "\n",
       "                                           input_ids  \\\n",
       "0  ((tf.Tensor(301, shape=(), dtype=int32), tf.Te...   \n",
       "1  ((tf.Tensor(19850, shape=(), dtype=int32), tf....   \n",
       "2  ((tf.Tensor(290, shape=(), dtype=int32), tf.Te...   \n",
       "3  ((tf.Tensor(86, shape=(), dtype=int32), tf.Ten...   \n",
       "4  ((tf.Tensor(3059, shape=(), dtype=int32), tf.T...   \n",
       "\n",
       "                                      attention_mask  \n",
       "0  ((tf.Tensor(1, shape=(), dtype=int32), tf.Tens...  \n",
       "1  ((tf.Tensor(1, shape=(), dtype=int32), tf.Tens...  \n",
       "2  ((tf.Tensor(1, shape=(), dtype=int32), tf.Tens...  \n",
       "3  ((tf.Tensor(1, shape=(), dtype=int32), tf.Tens...  \n",
       "4  ((tf.Tensor(1, shape=(), dtype=int32), tf.Tens...  "
      ]
     },
     "execution_count": 3,
     "metadata": {},
     "output_type": "execute_result"
    }
   ],
   "source": [
    "df_test['sentence_inputs'] = df_test.apply(lambda x: x['in'].split(), axis=1)\n",
    "df_test['sentence_length'] = df_test.apply(lambda x: len(x['sentence_inputs']), axis=1)\n",
    "df_test['to_model'] = df_test.apply(lambda x: 'paraphrase: ' + x['in'], axis=1)\n",
    "df_test['encoding'] = df_test.apply(lambda x: tokenizer(x['in'], return_tensors=\"tf\", truncation=True), axis=1)\n",
    "df_test['input_ids'] = df_test.apply(lambda x: x['encoding']['input_ids'], axis=1)\n",
    "df_test['attention_mask'] = df_test.apply(lambda x: x['encoding']['attention_mask'], axis=1)\n",
    "# def model_func(x):\n",
    "#     return model.generate(\n",
    "#         input_ids=x['encoding']['input_ids'],\n",
    "#         do_sample=True,\n",
    "#         attention_mask=x['encoding']['attention_mask'],\n",
    "#         max_length=512, top_k=250, top_p=0.99, early_stopping=True, num_return_sequences=2)\n",
    "# df_test['out'] = df_test.apply(lambda x: model_func(x), axis=1)\n",
    "df_test = df_test[df_test['sentence_length'] < 30]\n",
    "df_test.head()"
   ]
  },
  {
   "cell_type": "code",
   "execution_count": 4,
   "metadata": {},
   "outputs": [
    {
     "data": {
      "text/plain": [
       "torch.Size([1436, 63])"
      ]
     },
     "execution_count": 4,
     "metadata": {},
     "output_type": "execute_result"
    }
   ],
   "source": [
    "full_outs = []\n",
    "inps = tokenizer(df_test['to_model'].values.tolist(),\n",
    "    padding=True, truncation=True, return_tensors=\"pt\")\n",
    "# new_inps = model.prepare_inputs_for_generation(input_ids=inps['input_ids'],\n",
    "#     do_sample=True, attention_mask=inps['attention_mask'], max_length=512,\n",
    "#     top_k=250, top_p=0.99, early_stopping=True, num_return_sequences=2)\n",
    "# new_inps.keys()\n",
    "inps['input_ids'].shape"
   ]
  },
  {
   "cell_type": "code",
   "execution_count": 5,
   "metadata": {},
   "outputs": [],
   "source": [
    "full_outs = []"
   ]
  },
  {
   "cell_type": "code",
   "execution_count": 6,
   "metadata": {},
   "outputs": [],
   "source": [
    "out = model.generate(\n",
    "    input_ids=inps['input_ids'],\n",
    "    attention_mask=inps['attention_mask'],\n",
    "    top_k=250, top_p=0.99, early_stopping=True, num_return_sequences=3, do_sample=True)\n",
    "full_outs.append(out)"
   ]
  },
  {
   "cell_type": "code",
   "execution_count": 7,
   "metadata": {},
   "outputs": [
    {
     "name": "stderr",
     "output_type": "stream",
     "text": [
      "/Users/tyler/opt/anaconda3/envs/cs-7643/lib/python3.7/site-packages/numpy/core/fromnumeric.py:43: VisibleDeprecationWarning: Creating an ndarray from ragged nested sequences (which is a list-or-tuple of lists-or-tuples-or ndarrays with different lengths or shapes) is deprecated. If you meant to do this, you must specify 'dtype=object' when creating the ndarray.\n",
      "  result = getattr(asarray(obj), method)(*args, **kwds)\n"
     ]
    },
    {
     "data": {
      "text/html": [
       "<div>\n",
       "<style scoped>\n",
       "    .dataframe tbody tr th:only-of-type {\n",
       "        vertical-align: middle;\n",
       "    }\n",
       "\n",
       "    .dataframe tbody tr th {\n",
       "        vertical-align: top;\n",
       "    }\n",
       "\n",
       "    .dataframe thead th {\n",
       "        text-align: right;\n",
       "    }\n",
       "</style>\n",
       "<table border=\"1\" class=\"dataframe\">\n",
       "  <thead>\n",
       "    <tr style=\"text-align: right;\">\n",
       "      <th></th>\n",
       "      <th>in</th>\n",
       "      <th>expected</th>\n",
       "      <th>sentence_inputs</th>\n",
       "      <th>sentence_length</th>\n",
       "      <th>to_model</th>\n",
       "      <th>encoding</th>\n",
       "      <th>input_ids</th>\n",
       "      <th>attention_mask</th>\n",
       "      <th>out</th>\n",
       "    </tr>\n",
       "  </thead>\n",
       "  <tbody>\n",
       "    <tr>\n",
       "      <th>0</th>\n",
       "      <td>Lillian `` Lilly '' Truscott ( Oliver Oken ) i...</td>\n",
       "      <td>Lillian `` Lilly '' Truscott ( Oliver Oken ) i...</td>\n",
       "      <td>[Lillian, ``, Lilly, '', Truscott, (, Oliver, ...</td>\n",
       "      <td>27</td>\n",
       "      <td>paraphrase: Lillian `` Lilly '' Truscott ( Oli...</td>\n",
       "      <td>[input_ids, attention_mask]</td>\n",
       "      <td>((tf.Tensor(301, shape=(), dtype=int32), tf.Te...</td>\n",
       "      <td>((tf.Tensor(1, shape=(), dtype=int32), tf.Tens...</td>\n",
       "      <td>[[Lillian, Lilly, '], [], [Lillian, Lilly, '',...</td>\n",
       "    </tr>\n",
       "    <tr>\n",
       "      <th>1</th>\n",
       "      <td>Alfred Matthew Hubbard introduced Aldous Huxle...</td>\n",
       "      <td>In 1955 , Alfred Matthew Hubbard introduced Al...</td>\n",
       "      <td>[Alfred, Matthew, Hubbard, introduced, Aldous,...</td>\n",
       "      <td>20</td>\n",
       "      <td>paraphrase: Alfred Matthew Hubbard introduced ...</td>\n",
       "      <td>[input_ids, attention_mask]</td>\n",
       "      <td>((tf.Tensor(19850, shape=(), dtype=int32), tf....</td>\n",
       "      <td>((tf.Tensor(1, shape=(), dtype=int32), tf.Tens...</td>\n",
       "      <td>[[Alfred, Matthew, Hubbard, introduced, Ald], ...</td>\n",
       "    </tr>\n",
       "    <tr>\n",
       "      <th>2</th>\n",
       "      <td>There were several competing organisations on ...</td>\n",
       "      <td>During this period , there have been several c...</td>\n",
       "      <td>[There, were, several, competing, organisation...</td>\n",
       "      <td>17</td>\n",
       "      <td>paraphrase: There were several competing organ...</td>\n",
       "      <td>[input_ids, attention_mask]</td>\n",
       "      <td>((tf.Tensor(290, shape=(), dtype=int32), tf.Te...</td>\n",
       "      <td>((tf.Tensor(1, shape=(), dtype=int32), tf.Tens...</td>\n",
       "      <td>[[In, spit’, on, Irish, side, during, the, per...</td>\n",
       "    </tr>\n",
       "    <tr>\n",
       "      <th>3</th>\n",
       "      <td>In the belief that she is Easwari Rao ( Kasthu...</td>\n",
       "      <td>Thinking that she is Kasthuri ( Easwari Rao ) ...</td>\n",
       "      <td>[In, the, belief, that, she, is, Easwari, Rao,...</td>\n",
       "      <td>23</td>\n",
       "      <td>paraphrase: In the belief that she is Easwari ...</td>\n",
       "      <td>[input_ids, attention_mask]</td>\n",
       "      <td>((tf.Tensor(86, shape=(), dtype=int32), tf.Ten...</td>\n",
       "      <td>((tf.Tensor(1, shape=(), dtype=int32), tf.Tens...</td>\n",
       "      <td>[[], [In, the, belief, she, is, Easwari, Rao, ...</td>\n",
       "    </tr>\n",
       "    <tr>\n",
       "      <th>4</th>\n",
       "      <td>Tomasz Kafarski ( born January 13 , 1975 in Ko...</td>\n",
       "      <td>Tomasz Kafarski ( born January 13 , 1975 in Ko...</td>\n",
       "      <td>[Tomasz, Kafarski, (, born, January, 13, ,, 19...</td>\n",
       "      <td>21</td>\n",
       "      <td>paraphrase: Tomasz Kafarski ( born January 13 ...</td>\n",
       "      <td>[input_ids, attention_mask]</td>\n",
       "      <td>((tf.Tensor(3059, shape=(), dtype=int32), tf.T...</td>\n",
       "      <td>((tf.Tensor(1, shape=(), dtype=int32), tf.Tens...</td>\n",
       "      <td>[[Tomasz, Kafarski, (, born, January, 13,, 197...</td>\n",
       "    </tr>\n",
       "  </tbody>\n",
       "</table>\n",
       "</div>"
      ],
      "text/plain": [
       "                                                  in  \\\n",
       "0  Lillian `` Lilly '' Truscott ( Oliver Oken ) i...   \n",
       "1  Alfred Matthew Hubbard introduced Aldous Huxle...   \n",
       "2  There were several competing organisations on ...   \n",
       "3  In the belief that she is Easwari Rao ( Kasthu...   \n",
       "4  Tomasz Kafarski ( born January 13 , 1975 in Ko...   \n",
       "\n",
       "                                            expected  \\\n",
       "0  Lillian `` Lilly '' Truscott ( Oliver Oken ) i...   \n",
       "1  In 1955 , Alfred Matthew Hubbard introduced Al...   \n",
       "2  During this period , there have been several c...   \n",
       "3  Thinking that she is Kasthuri ( Easwari Rao ) ...   \n",
       "4  Tomasz Kafarski ( born January 13 , 1975 in Ko...   \n",
       "\n",
       "                                     sentence_inputs  sentence_length  \\\n",
       "0  [Lillian, ``, Lilly, '', Truscott, (, Oliver, ...               27   \n",
       "1  [Alfred, Matthew, Hubbard, introduced, Aldous,...               20   \n",
       "2  [There, were, several, competing, organisation...               17   \n",
       "3  [In, the, belief, that, she, is, Easwari, Rao,...               23   \n",
       "4  [Tomasz, Kafarski, (, born, January, 13, ,, 19...               21   \n",
       "\n",
       "                                            to_model  \\\n",
       "0  paraphrase: Lillian `` Lilly '' Truscott ( Oli...   \n",
       "1  paraphrase: Alfred Matthew Hubbard introduced ...   \n",
       "2  paraphrase: There were several competing organ...   \n",
       "3  paraphrase: In the belief that she is Easwari ...   \n",
       "4  paraphrase: Tomasz Kafarski ( born January 13 ...   \n",
       "\n",
       "                      encoding  \\\n",
       "0  [input_ids, attention_mask]   \n",
       "1  [input_ids, attention_mask]   \n",
       "2  [input_ids, attention_mask]   \n",
       "3  [input_ids, attention_mask]   \n",
       "4  [input_ids, attention_mask]   \n",
       "\n",
       "                                           input_ids  \\\n",
       "0  ((tf.Tensor(301, shape=(), dtype=int32), tf.Te...   \n",
       "1  ((tf.Tensor(19850, shape=(), dtype=int32), tf....   \n",
       "2  ((tf.Tensor(290, shape=(), dtype=int32), tf.Te...   \n",
       "3  ((tf.Tensor(86, shape=(), dtype=int32), tf.Ten...   \n",
       "4  ((tf.Tensor(3059, shape=(), dtype=int32), tf.T...   \n",
       "\n",
       "                                      attention_mask  \\\n",
       "0  ((tf.Tensor(1, shape=(), dtype=int32), tf.Tens...   \n",
       "1  ((tf.Tensor(1, shape=(), dtype=int32), tf.Tens...   \n",
       "2  ((tf.Tensor(1, shape=(), dtype=int32), tf.Tens...   \n",
       "3  ((tf.Tensor(1, shape=(), dtype=int32), tf.Tens...   \n",
       "4  ((tf.Tensor(1, shape=(), dtype=int32), tf.Tens...   \n",
       "\n",
       "                                                 out  \n",
       "0  [[Lillian, Lilly, '], [], [Lillian, Lilly, '',...  \n",
       "1  [[Alfred, Matthew, Hubbard, introduced, Ald], ...  \n",
       "2  [[In, spit’, on, Irish, side, during, the, per...  \n",
       "3  [[], [In, the, belief, she, is, Easwari, Rao, ...  \n",
       "4  [[Tomasz, Kafarski, (, born, January, 13,, 197...  "
      ]
     },
     "execution_count": 7,
     "metadata": {},
     "output_type": "execute_result"
    }
   ],
   "source": [
    "sentence_outputs = np.reshape(\n",
    "    [x.split() for x in tokenizer.batch_decode(out, skip_special_tokens=True)],\n",
    "    (df_test.shape[0], -1))\n",
    "to_df = [list(x) for x in sentence_outputs] # allows us to put all generated sentences in 1 column in list form\n",
    "df_test['out'] = to_df\n",
    "df_test.head()"
   ]
  },
  {
   "cell_type": "code",
   "execution_count": 8,
   "metadata": {},
   "outputs": [
    {
     "name": "stdout",
     "output_type": "stream",
     "text": [
      "0.3092555234419589 0.18873935413979945\n"
     ]
    }
   ],
   "source": [
    "sentence_inputs = [x.split() for x in df_test['in'].values.tolist()]\n",
    "sentence_expected = [x.split() for x in df_test['expected'].values.tolist()]\n",
    "sentence_outputs = df_test['out'].values.tolist()\n",
    "input_bleu = corpus_bleu(sentence_outputs, sentence_inputs)\n",
    "exp_bleu = corpus_bleu(sentence_outputs, sentence_expected)\n",
    "print(input_bleu, exp_bleu)"
   ]
  },
  {
   "cell_type": "code",
   "execution_count": 9,
   "metadata": {},
   "outputs": [],
   "source": [
    "df_test.to_csv('./results/houlsby-inv_1500_3.tsv', sep='\\t')"
   ]
  }
 ],
 "metadata": {
  "interpreter": {
   "hash": "c5fa2483a855b8d5bda0bee6a30ca1d19bc2df572f4161159be526481ad90098"
  },
  "kernelspec": {
   "display_name": "Python 3.7.13 64-bit ('cs-7643')",
   "language": "python",
   "name": "python3"
  },
  "language_info": {
   "codemirror_mode": {
    "name": "ipython",
    "version": 3
   },
   "file_extension": ".py",
   "mimetype": "text/x-python",
   "name": "python",
   "nbconvert_exporter": "python",
   "pygments_lexer": "ipython3",
   "version": "3.7.13"
  },
  "orig_nbformat": 4
 },
 "nbformat": 4,
 "nbformat_minor": 2
}
